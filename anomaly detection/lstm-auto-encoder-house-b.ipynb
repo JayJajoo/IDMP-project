{
 "cells": [
  {
   "cell_type": "code",
   "execution_count": 1,
   "metadata": {
    "_cell_guid": "b1076dfc-b9ad-4769-8c92-a6c4dae69d19",
    "_uuid": "8f2839f25d086af736a60e9eeb907d3b93b6e0e5",
    "execution": {
     "iopub.execute_input": "2024-11-29T23:40:40.997694Z",
     "iopub.status.busy": "2024-11-29T23:40:40.997405Z",
     "iopub.status.idle": "2024-11-29T23:40:44.710197Z",
     "shell.execute_reply": "2024-11-29T23:40:44.709219Z",
     "shell.execute_reply.started": "2024-11-29T23:40:40.997649Z"
    },
    "trusted": true
   },
   "outputs": [],
   "source": [
    "import torch\n",
    "import torch.nn as nn\n",
    "import torch.optim as optim\n",
    "from torch.utils.data import DataLoader, TensorDataset\n",
    "import numpy as np\n",
    "import pandas as pd\n",
    "from sklearn.preprocessing import StandardScaler\n",
    "import torch\n",
    "from torch.cuda.amp import autocast, GradScaler\n"
   ]
  },
  {
   "cell_type": "code",
   "execution_count": 2,
   "metadata": {
    "execution": {
     "iopub.execute_input": "2024-11-29T23:40:44.712776Z",
     "iopub.status.busy": "2024-11-29T23:40:44.711971Z",
     "iopub.status.idle": "2024-11-29T23:40:48.787642Z",
     "shell.execute_reply": "2024-11-29T23:40:48.786664Z",
     "shell.execute_reply.started": "2024-11-29T23:40:44.712730Z"
    },
    "trusted": true
   },
   "outputs": [],
   "source": [
    "df = pd.read_csv(\"/kaggle/input/d/jayjajoo01/house-b-csv/house_b_combined_dataset.csv\")"
   ]
  },
  {
   "cell_type": "code",
   "execution_count": 3,
   "metadata": {
    "execution": {
     "iopub.execute_input": "2024-11-29T23:40:48.789127Z",
     "iopub.status.busy": "2024-11-29T23:40:48.788817Z",
     "iopub.status.idle": "2024-11-29T23:40:48.823332Z",
     "shell.execute_reply": "2024-11-29T23:40:48.822663Z",
     "shell.execute_reply.started": "2024-11-29T23:40:48.789098Z"
    },
    "trusted": true
   },
   "outputs": [],
   "source": [
    "weeks = [[(i*7)*86400 , (i*7+7)*86400 if len(df)>(i*7+7)*86400 else len(df) ] for i in range(int(30/7)+1)]\n",
    "for index,week in enumerate(weeks):\n",
    "    df.loc[week[0]:week[1],\"Week\"]= int(index)+1"
   ]
  },
  {
   "cell_type": "code",
   "execution_count": 4,
   "metadata": {
    "execution": {
     "iopub.execute_input": "2024-11-29T23:40:48.825129Z",
     "iopub.status.busy": "2024-11-29T23:40:48.824843Z",
     "iopub.status.idle": "2024-11-29T23:40:49.493484Z",
     "shell.execute_reply": "2024-11-29T23:40:49.492517Z",
     "shell.execute_reply.started": "2024-11-29T23:40:48.825103Z"
    },
    "trusted": true
   },
   "outputs": [
    {
     "data": {
      "text/html": [
       "<div>\n",
       "<style scoped>\n",
       "    .dataframe tbody tr th:only-of-type {\n",
       "        vertical-align: middle;\n",
       "    }\n",
       "\n",
       "    .dataframe tbody tr th {\n",
       "        vertical-align: top;\n",
       "    }\n",
       "\n",
       "    .dataframe thead th {\n",
       "        text-align: right;\n",
       "    }\n",
       "</style>\n",
       "<table border=\"1\" class=\"dataframe\">\n",
       "  <thead>\n",
       "    <tr style=\"text-align: right;\">\n",
       "      <th></th>\n",
       "      <th>Unnamed: 0</th>\n",
       "      <th>contact_kitchen_cupboard_1</th>\n",
       "      <th>contact_kitchen_cupboard_2</th>\n",
       "      <th>contact_house_door</th>\n",
       "      <th>contact_wardrobe_door_1</th>\n",
       "      <th>contact_wardrobe_door_2</th>\n",
       "      <th>contact_shower_door</th>\n",
       "      <th>distance_tap</th>\n",
       "      <th>force_chair_1</th>\n",
       "      <th>force_chair_2</th>\n",
       "      <th>...</th>\n",
       "      <th>pressure_mat_bed_2</th>\n",
       "      <th>pressure_mat_armchair</th>\n",
       "      <th>sonar_bathroom_door</th>\n",
       "      <th>sonar_kitchen</th>\n",
       "      <th>sonar_closet</th>\n",
       "      <th>Resident1</th>\n",
       "      <th>Resident2</th>\n",
       "      <th>Hour</th>\n",
       "      <th>Week</th>\n",
       "      <th>Day Of Week</th>\n",
       "    </tr>\n",
       "  </thead>\n",
       "  <tbody>\n",
       "    <tr>\n",
       "      <th>0</th>\n",
       "      <td>0</td>\n",
       "      <td>0</td>\n",
       "      <td>0</td>\n",
       "      <td>0</td>\n",
       "      <td>0</td>\n",
       "      <td>0</td>\n",
       "      <td>0</td>\n",
       "      <td>0</td>\n",
       "      <td>0</td>\n",
       "      <td>0</td>\n",
       "      <td>...</td>\n",
       "      <td>1</td>\n",
       "      <td>0</td>\n",
       "      <td>0</td>\n",
       "      <td>0</td>\n",
       "      <td>0</td>\n",
       "      <td>11</td>\n",
       "      <td>11</td>\n",
       "      <td>0</td>\n",
       "      <td>1.0</td>\n",
       "      <td>1.0</td>\n",
       "    </tr>\n",
       "    <tr>\n",
       "      <th>1</th>\n",
       "      <td>1</td>\n",
       "      <td>0</td>\n",
       "      <td>0</td>\n",
       "      <td>0</td>\n",
       "      <td>0</td>\n",
       "      <td>0</td>\n",
       "      <td>0</td>\n",
       "      <td>0</td>\n",
       "      <td>0</td>\n",
       "      <td>0</td>\n",
       "      <td>...</td>\n",
       "      <td>1</td>\n",
       "      <td>0</td>\n",
       "      <td>0</td>\n",
       "      <td>0</td>\n",
       "      <td>0</td>\n",
       "      <td>11</td>\n",
       "      <td>11</td>\n",
       "      <td>0</td>\n",
       "      <td>1.0</td>\n",
       "      <td>1.0</td>\n",
       "    </tr>\n",
       "    <tr>\n",
       "      <th>2</th>\n",
       "      <td>2</td>\n",
       "      <td>0</td>\n",
       "      <td>0</td>\n",
       "      <td>0</td>\n",
       "      <td>0</td>\n",
       "      <td>0</td>\n",
       "      <td>0</td>\n",
       "      <td>0</td>\n",
       "      <td>0</td>\n",
       "      <td>0</td>\n",
       "      <td>...</td>\n",
       "      <td>1</td>\n",
       "      <td>0</td>\n",
       "      <td>0</td>\n",
       "      <td>0</td>\n",
       "      <td>0</td>\n",
       "      <td>11</td>\n",
       "      <td>11</td>\n",
       "      <td>0</td>\n",
       "      <td>1.0</td>\n",
       "      <td>1.0</td>\n",
       "    </tr>\n",
       "    <tr>\n",
       "      <th>3</th>\n",
       "      <td>3</td>\n",
       "      <td>0</td>\n",
       "      <td>0</td>\n",
       "      <td>0</td>\n",
       "      <td>0</td>\n",
       "      <td>0</td>\n",
       "      <td>0</td>\n",
       "      <td>0</td>\n",
       "      <td>0</td>\n",
       "      <td>0</td>\n",
       "      <td>...</td>\n",
       "      <td>1</td>\n",
       "      <td>0</td>\n",
       "      <td>0</td>\n",
       "      <td>0</td>\n",
       "      <td>0</td>\n",
       "      <td>11</td>\n",
       "      <td>11</td>\n",
       "      <td>0</td>\n",
       "      <td>1.0</td>\n",
       "      <td>1.0</td>\n",
       "    </tr>\n",
       "    <tr>\n",
       "      <th>4</th>\n",
       "      <td>4</td>\n",
       "      <td>0</td>\n",
       "      <td>0</td>\n",
       "      <td>0</td>\n",
       "      <td>0</td>\n",
       "      <td>0</td>\n",
       "      <td>0</td>\n",
       "      <td>0</td>\n",
       "      <td>0</td>\n",
       "      <td>0</td>\n",
       "      <td>...</td>\n",
       "      <td>1</td>\n",
       "      <td>0</td>\n",
       "      <td>0</td>\n",
       "      <td>0</td>\n",
       "      <td>0</td>\n",
       "      <td>11</td>\n",
       "      <td>11</td>\n",
       "      <td>0</td>\n",
       "      <td>1.0</td>\n",
       "      <td>1.0</td>\n",
       "    </tr>\n",
       "    <tr>\n",
       "      <th>...</th>\n",
       "      <td>...</td>\n",
       "      <td>...</td>\n",
       "      <td>...</td>\n",
       "      <td>...</td>\n",
       "      <td>...</td>\n",
       "      <td>...</td>\n",
       "      <td>...</td>\n",
       "      <td>...</td>\n",
       "      <td>...</td>\n",
       "      <td>...</td>\n",
       "      <td>...</td>\n",
       "      <td>...</td>\n",
       "      <td>...</td>\n",
       "      <td>...</td>\n",
       "      <td>...</td>\n",
       "      <td>...</td>\n",
       "      <td>...</td>\n",
       "      <td>...</td>\n",
       "      <td>...</td>\n",
       "      <td>...</td>\n",
       "      <td>...</td>\n",
       "    </tr>\n",
       "    <tr>\n",
       "      <th>2591995</th>\n",
       "      <td>86395</td>\n",
       "      <td>0</td>\n",
       "      <td>0</td>\n",
       "      <td>0</td>\n",
       "      <td>0</td>\n",
       "      <td>0</td>\n",
       "      <td>0</td>\n",
       "      <td>0</td>\n",
       "      <td>0</td>\n",
       "      <td>0</td>\n",
       "      <td>...</td>\n",
       "      <td>1</td>\n",
       "      <td>0</td>\n",
       "      <td>0</td>\n",
       "      <td>0</td>\n",
       "      <td>0</td>\n",
       "      <td>11</td>\n",
       "      <td>11</td>\n",
       "      <td>23</td>\n",
       "      <td>5.0</td>\n",
       "      <td>2.0</td>\n",
       "    </tr>\n",
       "    <tr>\n",
       "      <th>2591996</th>\n",
       "      <td>86396</td>\n",
       "      <td>0</td>\n",
       "      <td>0</td>\n",
       "      <td>0</td>\n",
       "      <td>0</td>\n",
       "      <td>0</td>\n",
       "      <td>0</td>\n",
       "      <td>0</td>\n",
       "      <td>0</td>\n",
       "      <td>0</td>\n",
       "      <td>...</td>\n",
       "      <td>1</td>\n",
       "      <td>0</td>\n",
       "      <td>0</td>\n",
       "      <td>0</td>\n",
       "      <td>0</td>\n",
       "      <td>11</td>\n",
       "      <td>11</td>\n",
       "      <td>23</td>\n",
       "      <td>5.0</td>\n",
       "      <td>2.0</td>\n",
       "    </tr>\n",
       "    <tr>\n",
       "      <th>2591997</th>\n",
       "      <td>86397</td>\n",
       "      <td>0</td>\n",
       "      <td>0</td>\n",
       "      <td>0</td>\n",
       "      <td>0</td>\n",
       "      <td>0</td>\n",
       "      <td>0</td>\n",
       "      <td>0</td>\n",
       "      <td>0</td>\n",
       "      <td>0</td>\n",
       "      <td>...</td>\n",
       "      <td>1</td>\n",
       "      <td>0</td>\n",
       "      <td>0</td>\n",
       "      <td>0</td>\n",
       "      <td>0</td>\n",
       "      <td>11</td>\n",
       "      <td>11</td>\n",
       "      <td>23</td>\n",
       "      <td>5.0</td>\n",
       "      <td>2.0</td>\n",
       "    </tr>\n",
       "    <tr>\n",
       "      <th>2591998</th>\n",
       "      <td>86398</td>\n",
       "      <td>0</td>\n",
       "      <td>0</td>\n",
       "      <td>0</td>\n",
       "      <td>0</td>\n",
       "      <td>0</td>\n",
       "      <td>0</td>\n",
       "      <td>0</td>\n",
       "      <td>0</td>\n",
       "      <td>0</td>\n",
       "      <td>...</td>\n",
       "      <td>1</td>\n",
       "      <td>0</td>\n",
       "      <td>0</td>\n",
       "      <td>0</td>\n",
       "      <td>0</td>\n",
       "      <td>11</td>\n",
       "      <td>11</td>\n",
       "      <td>23</td>\n",
       "      <td>5.0</td>\n",
       "      <td>2.0</td>\n",
       "    </tr>\n",
       "    <tr>\n",
       "      <th>2591999</th>\n",
       "      <td>86399</td>\n",
       "      <td>0</td>\n",
       "      <td>0</td>\n",
       "      <td>0</td>\n",
       "      <td>0</td>\n",
       "      <td>0</td>\n",
       "      <td>0</td>\n",
       "      <td>0</td>\n",
       "      <td>0</td>\n",
       "      <td>0</td>\n",
       "      <td>...</td>\n",
       "      <td>1</td>\n",
       "      <td>0</td>\n",
       "      <td>0</td>\n",
       "      <td>0</td>\n",
       "      <td>0</td>\n",
       "      <td>11</td>\n",
       "      <td>11</td>\n",
       "      <td>23</td>\n",
       "      <td>5.0</td>\n",
       "      <td>2.0</td>\n",
       "    </tr>\n",
       "  </tbody>\n",
       "</table>\n",
       "<p>2592000 rows × 26 columns</p>\n",
       "</div>"
      ],
      "text/plain": [
       "         Unnamed: 0  contact_kitchen_cupboard_1  contact_kitchen_cupboard_2  \\\n",
       "0                 0                           0                           0   \n",
       "1                 1                           0                           0   \n",
       "2                 2                           0                           0   \n",
       "3                 3                           0                           0   \n",
       "4                 4                           0                           0   \n",
       "...             ...                         ...                         ...   \n",
       "2591995       86395                           0                           0   \n",
       "2591996       86396                           0                           0   \n",
       "2591997       86397                           0                           0   \n",
       "2591998       86398                           0                           0   \n",
       "2591999       86399                           0                           0   \n",
       "\n",
       "         contact_house_door  contact_wardrobe_door_1  contact_wardrobe_door_2  \\\n",
       "0                         0                        0                        0   \n",
       "1                         0                        0                        0   \n",
       "2                         0                        0                        0   \n",
       "3                         0                        0                        0   \n",
       "4                         0                        0                        0   \n",
       "...                     ...                      ...                      ...   \n",
       "2591995                   0                        0                        0   \n",
       "2591996                   0                        0                        0   \n",
       "2591997                   0                        0                        0   \n",
       "2591998                   0                        0                        0   \n",
       "2591999                   0                        0                        0   \n",
       "\n",
       "         contact_shower_door  distance_tap  force_chair_1  force_chair_2  ...  \\\n",
       "0                          0             0              0              0  ...   \n",
       "1                          0             0              0              0  ...   \n",
       "2                          0             0              0              0  ...   \n",
       "3                          0             0              0              0  ...   \n",
       "4                          0             0              0              0  ...   \n",
       "...                      ...           ...            ...            ...  ...   \n",
       "2591995                    0             0              0              0  ...   \n",
       "2591996                    0             0              0              0  ...   \n",
       "2591997                    0             0              0              0  ...   \n",
       "2591998                    0             0              0              0  ...   \n",
       "2591999                    0             0              0              0  ...   \n",
       "\n",
       "         pressure_mat_bed_2  pressure_mat_armchair  sonar_bathroom_door  \\\n",
       "0                         1                      0                    0   \n",
       "1                         1                      0                    0   \n",
       "2                         1                      0                    0   \n",
       "3                         1                      0                    0   \n",
       "4                         1                      0                    0   \n",
       "...                     ...                    ...                  ...   \n",
       "2591995                   1                      0                    0   \n",
       "2591996                   1                      0                    0   \n",
       "2591997                   1                      0                    0   \n",
       "2591998                   1                      0                    0   \n",
       "2591999                   1                      0                    0   \n",
       "\n",
       "         sonar_kitchen  sonar_closet  Resident1  Resident2  Hour  Week  \\\n",
       "0                    0             0         11         11     0   1.0   \n",
       "1                    0             0         11         11     0   1.0   \n",
       "2                    0             0         11         11     0   1.0   \n",
       "3                    0             0         11         11     0   1.0   \n",
       "4                    0             0         11         11     0   1.0   \n",
       "...                ...           ...        ...        ...   ...   ...   \n",
       "2591995              0             0         11         11    23   5.0   \n",
       "2591996              0             0         11         11    23   5.0   \n",
       "2591997              0             0         11         11    23   5.0   \n",
       "2591998              0             0         11         11    23   5.0   \n",
       "2591999              0             0         11         11    23   5.0   \n",
       "\n",
       "         Day Of Week  \n",
       "0                1.0  \n",
       "1                1.0  \n",
       "2                1.0  \n",
       "3                1.0  \n",
       "4                1.0  \n",
       "...              ...  \n",
       "2591995          2.0  \n",
       "2591996          2.0  \n",
       "2591997          2.0  \n",
       "2591998          2.0  \n",
       "2591999          2.0  \n",
       "\n",
       "[2592000 rows x 26 columns]"
      ]
     },
     "execution_count": 4,
     "metadata": {},
     "output_type": "execute_result"
    }
   ],
   "source": [
    "for i in range(int(len(df)/86400)):\n",
    "    df.loc[i*86400:(i*86400)+86400,\"Day Of Week\"] = (i%7)+1\n",
    "df"
   ]
  },
  {
   "cell_type": "code",
   "execution_count": null,
   "metadata": {
    "execution": {
     "iopub.execute_input": "2024-11-29T23:40:49.494811Z",
     "iopub.status.busy": "2024-11-29T23:40:49.494512Z",
     "iopub.status.idle": "2024-11-29T23:40:49.819921Z",
     "shell.execute_reply": "2024-11-29T23:40:49.818998Z",
     "shell.execute_reply.started": "2024-11-29T23:40:49.494782Z"
    },
    "trusted": true
   },
   "outputs": [
    {
     "name": "stdout",
     "output_type": "stream",
     "text": [
      "Index(['contact_kitchen_cupboard_1', 'contact_kitchen_cupboard_2',\n",
      "       'contact_house_door', 'contact_wardrobe_door_1',\n",
      "       'contact_wardrobe_door_2', 'contact_shower_door', 'distance_tap',\n",
      "       'force_chair_1', 'force_chair_2', 'force_chair_3', 'photocell_fridge',\n",
      "       'photocell_kitchen_drawer', 'pressure_mat_couch_1',\n",
      "       'pressure_mat_couch_2', 'pressure_mat_bed_1', 'pressure_mat_bed_2',\n",
      "       'pressure_mat_armchair', 'sonar_bathroom_door', 'sonar_kitchen',\n",
      "       'sonar_closet', 'Resident1', 'Resident2', 'Hour', 'Week',\n",
      "       'Day Of Week'],\n",
      "      dtype='object')\n"
     ]
    }
   ],
   "source": [
    "data = df.drop(columns=['Unnamed: 0']) \n",
    "print(data.columns)\n",
    "data = data.values "
   ]
  },
  {
   "cell_type": "code",
   "execution_count": null,
   "metadata": {
    "execution": {
     "iopub.execute_input": "2024-11-29T23:40:49.821526Z",
     "iopub.status.busy": "2024-11-29T23:40:49.821152Z",
     "iopub.status.idle": "2024-11-29T23:40:50.624319Z",
     "shell.execute_reply": "2024-11-29T23:40:50.623309Z",
     "shell.execute_reply.started": "2024-11-29T23:40:49.821488Z"
    },
    "trusted": true
   },
   "outputs": [],
   "source": [
    "sc = StandardScaler()\n",
    "data = sc.fit_transform(data)  "
   ]
  },
  {
   "cell_type": "code",
   "execution_count": 7,
   "metadata": {
    "execution": {
     "iopub.execute_input": "2024-11-29T23:40:50.625708Z",
     "iopub.status.busy": "2024-11-29T23:40:50.625458Z",
     "iopub.status.idle": "2024-11-29T23:40:50.632903Z",
     "shell.execute_reply": "2024-11-29T23:40:50.631997Z",
     "shell.execute_reply.started": "2024-11-29T23:40:50.625684Z"
    },
    "trusted": true
   },
   "outputs": [
    {
     "data": {
      "text/plain": [
       "['/kaggle/working/standardscaler_hb.joblib']"
      ]
     },
     "execution_count": 7,
     "metadata": {},
     "output_type": "execute_result"
    }
   ],
   "source": [
    "from joblib import dump\n",
    "\n",
    "dump(sc, \"/kaggle/working/standardscaler_hb.joblib\")"
   ]
  },
  {
   "cell_type": "code",
   "execution_count": null,
   "metadata": {
    "execution": {
     "iopub.execute_input": "2024-11-29T23:40:50.634106Z",
     "iopub.status.busy": "2024-11-29T23:40:50.633848Z",
     "iopub.status.idle": "2024-11-29T23:40:50.782199Z",
     "shell.execute_reply": "2024-11-29T23:40:50.781411Z",
     "shell.execute_reply.started": "2024-11-29T23:40:50.634082Z"
    },
    "trusted": true
   },
   "outputs": [],
   "source": [
    "data_tensor = torch.tensor(data, dtype=torch.float32)"
   ]
  },
  {
   "cell_type": "code",
   "execution_count": null,
   "metadata": {
    "execution": {
     "iopub.execute_input": "2024-11-29T23:40:50.783658Z",
     "iopub.status.busy": "2024-11-29T23:40:50.783319Z",
     "iopub.status.idle": "2024-11-29T23:40:50.789137Z",
     "shell.execute_reply": "2024-11-29T23:40:50.788167Z",
     "shell.execute_reply.started": "2024-11-29T23:40:50.783619Z"
    },
    "trusted": true
   },
   "outputs": [],
   "source": [
    "batch_size = 2**17  \n",
    "dataset = TensorDataset(data_tensor)\n",
    "data_loader = DataLoader(dataset, batch_size=batch_size, shuffle=True)"
   ]
  },
  {
   "cell_type": "code",
   "execution_count": null,
   "metadata": {
    "execution": {
     "iopub.execute_input": "2024-11-29T23:40:50.792860Z",
     "iopub.status.busy": "2024-11-29T23:40:50.792573Z",
     "iopub.status.idle": "2024-11-29T23:40:50.800520Z",
     "shell.execute_reply": "2024-11-29T23:40:50.799764Z",
     "shell.execute_reply.started": "2024-11-29T23:40:50.792826Z"
    },
    "trusted": true
   },
   "outputs": [],
   "source": [
    "import torch\n",
    "import torch.nn as nn\n",
    "\n",
    "class LSTM_Autoencoder(nn.Module):\n",
    "    def __init__(self, input_size, hidden_size, seq_len):\n",
    "        super(LSTM_Autoencoder, self).__init__()\n",
    "        self.encoder = nn.LSTM(input_size, hidden_size, batch_first=True)\n",
    "        self.decoder = nn.LSTM(hidden_size, hidden_size, batch_first=True)\n",
    "        self.output_layer = nn.Linear(hidden_size, input_size)\n",
    "        self.hidden_size = hidden_size\n",
    "        self.seq_len = seq_len\n",
    "\n",
    "    def forward(self, x):\n",
    "        h0 = torch.zeros(1, x.size(0), self.hidden_size).to(x.device)  \n",
    "        c0 = torch.zeros(1, x.size(0), self.hidden_size).to(x.device)  \n",
    "        \n",
    "        encoded, (hn, cn) = self.encoder(x, (h0, c0))\n",
    "        \n",
    "        decoded, _ = self.decoder(encoded, (hn, cn))\n",
    "        \n",
    "        decoded = self.output_layer(decoded)\n",
    "        \n",
    "        return decoded\n"
   ]
  },
  {
   "cell_type": "code",
   "execution_count": null,
   "metadata": {
    "execution": {
     "iopub.execute_input": "2024-11-29T23:40:50.801808Z",
     "iopub.status.busy": "2024-11-29T23:40:50.801525Z",
     "iopub.status.idle": "2024-11-29T23:40:50.813217Z",
     "shell.execute_reply": "2024-11-29T23:40:50.812475Z",
     "shell.execute_reply.started": "2024-11-29T23:40:50.801783Z"
    },
    "trusted": true
   },
   "outputs": [],
   "source": [
    "input_size = data.shape[1]  # Number of sensor features\n",
    "hidden_size = 256  # You can adjust this based on your model's complexity\n",
    "seq_len = 1  # We are feeding one time step at a time (if you want multi-step sequence, change this)"
   ]
  },
  {
   "cell_type": "code",
   "execution_count": null,
   "metadata": {
    "execution": {
     "iopub.execute_input": "2024-11-29T23:40:50.814423Z",
     "iopub.status.busy": "2024-11-29T23:40:50.814152Z",
     "iopub.status.idle": "2024-11-29T23:40:51.137969Z",
     "shell.execute_reply": "2024-11-29T23:40:51.137005Z",
     "shell.execute_reply.started": "2024-11-29T23:40:50.814399Z"
    },
    "trusted": true
   },
   "outputs": [],
   "source": [
    "device = torch.device('cuda' if torch.cuda.is_available() else 'cpu')\n",
    "model = LSTM_Autoencoder(input_size=input_size, hidden_size=hidden_size, seq_len=seq_len).to(device)"
   ]
  },
  {
   "cell_type": "code",
   "execution_count": 13,
   "metadata": {
    "execution": {
     "iopub.execute_input": "2024-11-29T23:40:51.139390Z",
     "iopub.status.busy": "2024-11-29T23:40:51.139115Z",
     "iopub.status.idle": "2024-11-29T23:40:51.145716Z",
     "shell.execute_reply": "2024-11-29T23:40:51.144981Z",
     "shell.execute_reply.started": "2024-11-29T23:40:51.139365Z"
    },
    "trusted": true
   },
   "outputs": [],
   "source": [
    "model = nn.DataParallel(model)\n",
    "\n",
    "model = model.to(device)"
   ]
  },
  {
   "cell_type": "code",
   "execution_count": null,
   "metadata": {
    "execution": {
     "iopub.execute_input": "2024-11-29T23:40:51.146774Z",
     "iopub.status.busy": "2024-11-29T23:40:51.146571Z",
     "iopub.status.idle": "2024-11-29T23:40:51.922128Z",
     "shell.execute_reply": "2024-11-29T23:40:51.921221Z",
     "shell.execute_reply.started": "2024-11-29T23:40:51.146753Z"
    },
    "trusted": true
   },
   "outputs": [],
   "source": [
    "criterion = nn.MSELoss()  \n",
    "optimizer = optim.Adam(model.parameters(), lr=0.001)"
   ]
  },
  {
   "cell_type": "code",
   "execution_count": null,
   "metadata": {
    "execution": {
     "iopub.execute_input": "2024-11-29T23:40:51.923903Z",
     "iopub.status.busy": "2024-11-29T23:40:51.923380Z",
     "iopub.status.idle": "2024-11-30T00:24:11.960639Z",
     "shell.execute_reply": "2024-11-30T00:24:11.959884Z",
     "shell.execute_reply.started": "2024-11-29T23:40:51.923860Z"
    },
    "trusted": true
   },
   "outputs": [
    {
     "name": "stderr",
     "output_type": "stream",
     "text": [
      "/tmp/ipykernel_30/1740040032.py:2: FutureWarning: `torch.cuda.amp.GradScaler(args...)` is deprecated. Please use `torch.amp.GradScaler('cuda', args...)` instead.\n",
      "  scaler = GradScaler()\n",
      "/tmp/ipykernel_30/1740040032.py:13: FutureWarning: `torch.cuda.amp.autocast(args...)` is deprecated. Please use `torch.amp.autocast('cuda', args...)` instead.\n",
      "  with autocast():\n",
      "/opt/conda/lib/python3.10/site-packages/torch/nn/parallel/parallel_apply.py:79: FutureWarning: `torch.cuda.amp.autocast(args...)` is deprecated. Please use `torch.amp.autocast('cuda', args...)` instead.\n",
      "  with torch.cuda.device(device), torch.cuda.stream(stream), autocast(enabled=autocast_enabled):\n"
     ]
    },
    {
     "name": "stdout",
     "output_type": "stream",
     "text": [
      "Epoch [5/100], Loss: 0.0915\n",
      "Epoch [10/100], Loss: 0.0190\n",
      "Epoch [15/100], Loss: 0.0078\n",
      "Epoch [20/100], Loss: 0.0043\n",
      "Epoch [25/100], Loss: 0.0029\n",
      "Epoch [30/100], Loss: 0.0022\n",
      "Epoch [35/100], Loss: 0.0018\n",
      "Epoch [40/100], Loss: 0.0015\n",
      "Epoch [45/100], Loss: 0.0013\n",
      "Epoch [50/100], Loss: 0.0011\n",
      "Epoch [55/100], Loss: 0.0009\n",
      "Epoch [60/100], Loss: 0.0009\n",
      "Epoch [65/100], Loss: 0.0007\n",
      "Epoch [70/100], Loss: 0.0007\n",
      "Epoch [75/100], Loss: 0.0006\n",
      "Epoch [80/100], Loss: 0.0005\n",
      "Epoch [85/100], Loss: 0.0004\n",
      "Epoch [90/100], Loss: 0.0004\n",
      "Epoch [95/100], Loss: 0.0003\n",
      "Epoch [100/100], Loss: 0.0003\n"
     ]
    }
   ],
   "source": [
    "scaler = GradScaler()\n",
    "\n",
    "num_epochs = 100  \n",
    "for epoch in range(num_epochs):\n",
    "    model.train()\n",
    "    running_loss = 0.0\n",
    "    for batch_idx, (batch_data,) in enumerate(data_loader):\n",
    "        batch_data = batch_data.to(device)\n",
    "        batch_data = batch_data.unsqueeze(1)  \n",
    "\n",
    "        with autocast():\n",
    "            output = model(batch_data)\n",
    "            loss = criterion(output, batch_data)\n",
    "        \n",
    "        scaler.scale(loss).backward()\n",
    "        \n",
    "        scaler.step(optimizer)\n",
    "        scaler.update()  \n",
    "        optimizer.zero_grad() \n",
    "        \n",
    "        running_loss += loss.item()\n",
    "    \n",
    "    avg_loss = running_loss / len(data_loader)\n",
    "    if((epoch+1)%5==0):\n",
    "        print(f'Epoch [{epoch+1}/{num_epochs}], Loss: {avg_loss:.4f}')\n"
   ]
  },
  {
   "cell_type": "code",
   "execution_count": 16,
   "metadata": {
    "execution": {
     "iopub.execute_input": "2024-11-30T00:24:11.961783Z",
     "iopub.status.busy": "2024-11-30T00:24:11.961525Z",
     "iopub.status.idle": "2024-11-30T00:24:38.850688Z",
     "shell.execute_reply": "2024-11-30T00:24:38.849766Z",
     "shell.execute_reply.started": "2024-11-30T00:24:11.961754Z"
    },
    "trusted": true
   },
   "outputs": [
    {
     "name": "stderr",
     "output_type": "stream",
     "text": [
      "/tmp/ipykernel_30/2326915126.py:12: FutureWarning: `torch.cuda.amp.autocast(args...)` is deprecated. Please use `torch.amp.autocast('cuda', args...)` instead.\n",
      "  with autocast():\n"
     ]
    }
   ],
   "source": [
    "import numpy as np\n",
    "from torch.cuda.amp import autocast\n",
    "\n",
    "model.eval()\n",
    "reconstruction_errors = []\n",
    "\n",
    "with torch.no_grad():\n",
    "    for batch_idx, (batch_data,) in enumerate(data_loader):\n",
    "        batch_data = batch_data.to(device)\n",
    "        batch_data = batch_data.unsqueeze(1)  \n",
    "\n",
    "        with autocast():\n",
    "            output = model(batch_data)\n",
    "\n",
    "        error = torch.mean((batch_data - output) ** 2, dim=[1, 2]).cpu().numpy()\n",
    "        reconstruction_errors.extend(error)"
   ]
  },
  {
   "cell_type": "code",
   "execution_count": 17,
   "metadata": {
    "execution": {
     "iopub.execute_input": "2024-11-30T00:24:38.852067Z",
     "iopub.status.busy": "2024-11-30T00:24:38.851782Z",
     "iopub.status.idle": "2024-11-30T00:24:39.148690Z",
     "shell.execute_reply": "2024-11-30T00:24:39.147974Z",
     "shell.execute_reply.started": "2024-11-30T00:24:38.852037Z"
    },
    "trusted": true
   },
   "outputs": [],
   "source": [
    "threshold = np.percentile(reconstruction_errors, 95)\n",
    "\n",
    "anomalies = np.array(reconstruction_errors) > threshold"
   ]
  },
  {
   "cell_type": "code",
   "execution_count": 18,
   "metadata": {
    "execution": {
     "iopub.execute_input": "2024-11-30T00:24:39.149962Z",
     "iopub.status.busy": "2024-11-30T00:24:39.149700Z",
     "iopub.status.idle": "2024-11-30T00:24:39.157600Z",
     "shell.execute_reply": "2024-11-30T00:24:39.156706Z",
     "shell.execute_reply.started": "2024-11-30T00:24:39.149921Z"
    },
    "trusted": true
   },
   "outputs": [
    {
     "data": {
      "text/plain": [
       "129516"
      ]
     },
     "execution_count": 18,
     "metadata": {},
     "output_type": "execute_result"
    }
   ],
   "source": [
    "total_anomalies = (anomalies==True).sum()\n",
    "total_anomalies"
   ]
  },
  {
   "cell_type": "code",
   "execution_count": 19,
   "metadata": {
    "execution": {
     "iopub.execute_input": "2024-11-30T00:24:39.159030Z",
     "iopub.status.busy": "2024-11-30T00:24:39.158691Z",
     "iopub.status.idle": "2024-11-30T00:24:39.168102Z",
     "shell.execute_reply": "2024-11-30T00:24:39.167335Z",
     "shell.execute_reply.started": "2024-11-30T00:24:39.158978Z"
    },
    "trusted": true
   },
   "outputs": [
    {
     "data": {
      "text/plain": [
       "2462484"
      ]
     },
     "execution_count": 19,
     "metadata": {},
     "output_type": "execute_result"
    }
   ],
   "source": [
    "(anomalies==False).sum()"
   ]
  },
  {
   "cell_type": "code",
   "execution_count": 20,
   "metadata": {
    "execution": {
     "iopub.execute_input": "2024-11-30T00:24:39.169610Z",
     "iopub.status.busy": "2024-11-30T00:24:39.169265Z",
     "iopub.status.idle": "2024-11-30T00:24:39.177071Z",
     "shell.execute_reply": "2024-11-30T00:24:39.176353Z",
     "shell.execute_reply.started": "2024-11-30T00:24:39.169558Z"
    },
    "trusted": true
   },
   "outputs": [],
   "source": [
    "df[\"Anomaly\"] = anomalies"
   ]
  },
  {
   "cell_type": "code",
   "execution_count": 21,
   "metadata": {
    "execution": {
     "iopub.execute_input": "2024-11-30T00:24:39.178481Z",
     "iopub.status.busy": "2024-11-30T00:24:39.178197Z",
     "iopub.status.idle": "2024-11-30T00:24:53.142775Z",
     "shell.execute_reply": "2024-11-30T00:24:53.141821Z",
     "shell.execute_reply.started": "2024-11-30T00:24:39.178445Z"
    },
    "trusted": true
   },
   "outputs": [],
   "source": [
    "df.to_csv(\"/kaggle/working/house_b_detected_anomalies.csv\")"
   ]
  },
  {
   "cell_type": "code",
   "execution_count": 22,
   "metadata": {
    "execution": {
     "iopub.execute_input": "2024-11-30T00:24:53.144387Z",
     "iopub.status.busy": "2024-11-30T00:24:53.143936Z",
     "iopub.status.idle": "2024-11-30T00:24:53.150704Z",
     "shell.execute_reply": "2024-11-30T00:24:53.149844Z",
     "shell.execute_reply.started": "2024-11-30T00:24:53.144341Z"
    },
    "trusted": true
   },
   "outputs": [
    {
     "data": {
      "text/plain": [
       "2592000"
      ]
     },
     "execution_count": 22,
     "metadata": {},
     "output_type": "execute_result"
    }
   ],
   "source": [
    "len(df)"
   ]
  },
  {
   "cell_type": "code",
   "execution_count": 23,
   "metadata": {
    "execution": {
     "iopub.execute_input": "2024-11-30T00:24:53.151938Z",
     "iopub.status.busy": "2024-11-30T00:24:53.151678Z",
     "iopub.status.idle": "2024-11-30T00:24:53.163739Z",
     "shell.execute_reply": "2024-11-30T00:24:53.162869Z",
     "shell.execute_reply.started": "2024-11-30T00:24:53.151911Z"
    },
    "trusted": true
   },
   "outputs": [
    {
     "name": "stdout",
     "output_type": "stream",
     "text": [
      "Percentage Anomalies = 4.996759259259259%\n"
     ]
    }
   ],
   "source": [
    "print(f\"Percentage Anomalies = {(total_anomalies/len(df))*100}%\")"
   ]
  },
  {
   "cell_type": "code",
   "execution_count": 24,
   "metadata": {
    "execution": {
     "iopub.execute_input": "2024-11-30T00:24:53.165100Z",
     "iopub.status.busy": "2024-11-30T00:24:53.164826Z",
     "iopub.status.idle": "2024-11-30T00:24:53.294103Z",
     "shell.execute_reply": "2024-11-30T00:24:53.293169Z",
     "shell.execute_reply.started": "2024-11-30T00:24:53.165075Z"
    },
    "trusted": true
   },
   "outputs": [],
   "source": [
    "torch.save(model.state_dict(), \"/kaggle/working/lstm_autoencoder_hb.pth\")\n",
    "np.save(\"/kaggle/working/reconstruction_errors_hb.npy\", reconstruction_errors)"
   ]
  },
  {
   "cell_type": "markdown",
   "metadata": {},
   "source": [
    "<h1>Testing it on custom Data</h1>"
   ]
  },
  {
   "cell_type": "code",
   "execution_count": null,
   "metadata": {
    "execution": {
     "iopub.execute_input": "2024-11-30T00:24:53.295545Z",
     "iopub.status.busy": "2024-11-30T00:24:53.295270Z",
     "iopub.status.idle": "2024-11-30T00:24:53.313268Z",
     "shell.execute_reply": "2024-11-30T00:24:53.312650Z",
     "shell.execute_reply.started": "2024-11-30T00:24:53.295520Z"
    },
    "trusted": true
   },
   "outputs": [],
   "source": [
    "import torch\n",
    "from collections import OrderedDict\n",
    "\n",
    "\n",
    "class LSTM_Autoencoder(nn.Module):\n",
    "    def __init__(self, input_size, hidden_size, seq_len):\n",
    "        super(LSTM_Autoencoder, self).__init__()\n",
    "        self.encoder = nn.LSTM(input_size, hidden_size, batch_first=True)\n",
    "        self.decoder = nn.LSTM(hidden_size, hidden_size, batch_first=True)\n",
    "        self.output_layer = nn.Linear(hidden_size, input_size)\n",
    "        self.hidden_size = hidden_size\n",
    "        self.seq_len = seq_len\n",
    "\n",
    "    def forward(self, x):\n",
    "        h0 = torch.zeros(1, x.size(0), self.hidden_size).to(x.device)\n",
    "        c0 = torch.zeros(1, x.size(0), self.hidden_size).to(x.device)\n",
    "        \n",
    "        encoded, (hn, cn) = self.encoder(x, (h0, c0))\n",
    "        \n",
    "        decoded, _ = self.decoder(encoded, (hn, cn))\n",
    "        \n",
    "        decoded = self.output_layer(decoded)\n",
    "        \n",
    "        return decoded\n",
    "\n",
    "input_size = 25 \n",
    "hidden_size = 256\n",
    "seq_len = 1      \n",
    "device = torch.device(\"cuda\" if torch.cuda.is_available() else \"cpu\")\n",
    "\n",
    "model = LSTM_Autoencoder(input_size=input_size, hidden_size=hidden_size, seq_len=seq_len).to(device)"
   ]
  },
  {
   "cell_type": "code",
   "execution_count": null,
   "metadata": {
    "execution": {
     "iopub.execute_input": "2024-11-30T00:24:53.314655Z",
     "iopub.status.busy": "2024-11-30T00:24:53.314328Z",
     "iopub.status.idle": "2024-11-30T00:24:53.324186Z",
     "shell.execute_reply": "2024-11-30T00:24:53.323395Z",
     "shell.execute_reply.started": "2024-11-30T00:24:53.314620Z"
    },
    "trusted": true
   },
   "outputs": [
    {
     "name": "stdout",
     "output_type": "stream",
     "text": [
      "Model loaded successfully with adjusted keys!\n"
     ]
    },
    {
     "name": "stderr",
     "output_type": "stream",
     "text": [
      "/tmp/ipykernel_30/381041762.py:2: FutureWarning: You are using `torch.load` with `weights_only=False` (the current default value), which uses the default pickle module implicitly. It is possible to construct malicious pickle data which will execute arbitrary code during unpickling (See https://github.com/pytorch/pytorch/blob/main/SECURITY.md#untrusted-models for more details). In a future release, the default value for `weights_only` will be flipped to `True`. This limits the functions that could be executed during unpickling. Arbitrary objects will no longer be allowed to be loaded via this mode unless they are explicitly allowlisted by the user via `torch.serialization.add_safe_globals`. We recommend you start setting `weights_only=True` for any use case where you don't have full control of the loaded file. Please open an issue on GitHub for any issues related to this experimental feature.\n",
      "  state_dict = torch.load(\"/kaggle/working/lstm_autoencoder_hb.pth\", map_location=device)\n"
     ]
    }
   ],
   "source": [
    "state_dict = torch.load(\"/kaggle/working/lstm_autoencoder_hb.pth\", map_location=device)\n",
    "\n",
    "\n",
    "new_state_dict = OrderedDict()\n",
    "for k, v in state_dict.items():\n",
    "    new_key = k.replace(\"module.\", \"\")  \n",
    "    new_state_dict[new_key] = v\n",
    "\n",
    "model.load_state_dict(new_state_dict)\n",
    "\n",
    "model.eval()\n",
    "\n",
    "print(\"Model loaded successfully with adjusted keys!\")\n",
    "\n"
   ]
  },
  {
   "cell_type": "code",
   "execution_count": 27,
   "metadata": {
    "execution": {
     "iopub.execute_input": "2024-11-30T00:24:53.325381Z",
     "iopub.status.busy": "2024-11-30T00:24:53.325140Z",
     "iopub.status.idle": "2024-11-30T00:24:53.402025Z",
     "shell.execute_reply": "2024-11-30T00:24:53.401153Z",
     "shell.execute_reply.started": "2024-11-30T00:24:53.325357Z"
    },
    "trusted": true
   },
   "outputs": [
    {
     "name": "stdout",
     "output_type": "stream",
     "text": [
      "Total anomalies: 129516\n"
     ]
    }
   ],
   "source": [
    "reconstruction_errors = np.load(\"/kaggle/working/reconstruction_errors_hb.npy\")\n",
    "\n",
    "threshold = np.percentile(reconstruction_errors, 95)\n",
    "anomalies = reconstruction_errors > threshold\n",
    "\n",
    "total_anomalies = anomalies.sum()\n",
    "print(f\"Total anomalies: {total_anomalies}\")"
   ]
  },
  {
   "cell_type": "code",
   "execution_count": 28,
   "metadata": {
    "execution": {
     "iopub.execute_input": "2024-11-30T00:24:53.405628Z",
     "iopub.status.busy": "2024-11-30T00:24:53.405326Z",
     "iopub.status.idle": "2024-11-30T00:24:53.411373Z",
     "shell.execute_reply": "2024-11-30T00:24:53.410458Z",
     "shell.execute_reply.started": "2024-11-30T00:24:53.405599Z"
    },
    "trusted": true
   },
   "outputs": [
    {
     "data": {
      "text/plain": [
       "0.00014203230966813862"
      ]
     },
     "execution_count": 28,
     "metadata": {},
     "output_type": "execute_result"
    }
   ],
   "source": [
    "threshold"
   ]
  },
  {
   "cell_type": "code",
   "execution_count": null,
   "metadata": {
    "execution": {
     "iopub.execute_input": "2024-11-30T00:24:53.412613Z",
     "iopub.status.busy": "2024-11-30T00:24:53.412394Z",
     "iopub.status.idle": "2024-11-30T00:24:53.423440Z",
     "shell.execute_reply": "2024-11-30T00:24:53.422555Z",
     "shell.execute_reply.started": "2024-11-30T00:24:53.412591Z"
    },
    "trusted": true
   },
   "outputs": [
    {
     "data": {
      "text/html": [
       "<style>#sk-container-id-1 {color: black;background-color: white;}#sk-container-id-1 pre{padding: 0;}#sk-container-id-1 div.sk-toggleable {background-color: white;}#sk-container-id-1 label.sk-toggleable__label {cursor: pointer;display: block;width: 100%;margin-bottom: 0;padding: 0.3em;box-sizing: border-box;text-align: center;}#sk-container-id-1 label.sk-toggleable__label-arrow:before {content: \"▸\";float: left;margin-right: 0.25em;color: #696969;}#sk-container-id-1 label.sk-toggleable__label-arrow:hover:before {color: black;}#sk-container-id-1 div.sk-estimator:hover label.sk-toggleable__label-arrow:before {color: black;}#sk-container-id-1 div.sk-toggleable__content {max-height: 0;max-width: 0;overflow: hidden;text-align: left;background-color: #f0f8ff;}#sk-container-id-1 div.sk-toggleable__content pre {margin: 0.2em;color: black;border-radius: 0.25em;background-color: #f0f8ff;}#sk-container-id-1 input.sk-toggleable__control:checked~div.sk-toggleable__content {max-height: 200px;max-width: 100%;overflow: auto;}#sk-container-id-1 input.sk-toggleable__control:checked~label.sk-toggleable__label-arrow:before {content: \"▾\";}#sk-container-id-1 div.sk-estimator input.sk-toggleable__control:checked~label.sk-toggleable__label {background-color: #d4ebff;}#sk-container-id-1 div.sk-label input.sk-toggleable__control:checked~label.sk-toggleable__label {background-color: #d4ebff;}#sk-container-id-1 input.sk-hidden--visually {border: 0;clip: rect(1px 1px 1px 1px);clip: rect(1px, 1px, 1px, 1px);height: 1px;margin: -1px;overflow: hidden;padding: 0;position: absolute;width: 1px;}#sk-container-id-1 div.sk-estimator {font-family: monospace;background-color: #f0f8ff;border: 1px dotted black;border-radius: 0.25em;box-sizing: border-box;margin-bottom: 0.5em;}#sk-container-id-1 div.sk-estimator:hover {background-color: #d4ebff;}#sk-container-id-1 div.sk-parallel-item::after {content: \"\";width: 100%;border-bottom: 1px solid gray;flex-grow: 1;}#sk-container-id-1 div.sk-label:hover label.sk-toggleable__label {background-color: #d4ebff;}#sk-container-id-1 div.sk-serial::before {content: \"\";position: absolute;border-left: 1px solid gray;box-sizing: border-box;top: 0;bottom: 0;left: 50%;z-index: 0;}#sk-container-id-1 div.sk-serial {display: flex;flex-direction: column;align-items: center;background-color: white;padding-right: 0.2em;padding-left: 0.2em;position: relative;}#sk-container-id-1 div.sk-item {position: relative;z-index: 1;}#sk-container-id-1 div.sk-parallel {display: flex;align-items: stretch;justify-content: center;background-color: white;position: relative;}#sk-container-id-1 div.sk-item::before, #sk-container-id-1 div.sk-parallel-item::before {content: \"\";position: absolute;border-left: 1px solid gray;box-sizing: border-box;top: 0;bottom: 0;left: 50%;z-index: -1;}#sk-container-id-1 div.sk-parallel-item {display: flex;flex-direction: column;z-index: 1;position: relative;background-color: white;}#sk-container-id-1 div.sk-parallel-item:first-child::after {align-self: flex-end;width: 50%;}#sk-container-id-1 div.sk-parallel-item:last-child::after {align-self: flex-start;width: 50%;}#sk-container-id-1 div.sk-parallel-item:only-child::after {width: 0;}#sk-container-id-1 div.sk-dashed-wrapped {border: 1px dashed gray;margin: 0 0.4em 0.5em 0.4em;box-sizing: border-box;padding-bottom: 0.4em;background-color: white;}#sk-container-id-1 div.sk-label label {font-family: monospace;font-weight: bold;display: inline-block;line-height: 1.2em;}#sk-container-id-1 div.sk-label-container {text-align: center;}#sk-container-id-1 div.sk-container {/* jupyter's `normalize.less` sets `[hidden] { display: none; }` but bootstrap.min.css set `[hidden] { display: none !important; }` so we also need the `!important` here to be able to override the default hidden behavior on the sphinx rendered scikit-learn.org. See: https://github.com/scikit-learn/scikit-learn/issues/21755 */display: inline-block !important;position: relative;}#sk-container-id-1 div.sk-text-repr-fallback {display: none;}</style><div id=\"sk-container-id-1\" class=\"sk-top-container\"><div class=\"sk-text-repr-fallback\"><pre>StandardScaler()</pre><b>In a Jupyter environment, please rerun this cell to show the HTML representation or trust the notebook. <br />On GitHub, the HTML representation is unable to render, please try loading this page with nbviewer.org.</b></div><div class=\"sk-container\" hidden><div class=\"sk-item\"><div class=\"sk-estimator sk-toggleable\"><input class=\"sk-toggleable__control sk-hidden--visually\" id=\"sk-estimator-id-1\" type=\"checkbox\" checked><label for=\"sk-estimator-id-1\" class=\"sk-toggleable__label sk-toggleable__label-arrow\">StandardScaler</label><div class=\"sk-toggleable__content\"><pre>StandardScaler()</pre></div></div></div></div></div>"
      ],
      "text/plain": [
       "StandardScaler()"
      ]
     },
     "execution_count": 29,
     "metadata": {},
     "output_type": "execute_result"
    }
   ],
   "source": [
    "from joblib import load\n",
    "\n",
    "sc = load('/kaggle/working/standardscaler_hb.joblib')\n",
    "sc"
   ]
  },
  {
   "cell_type": "code",
   "execution_count": null,
   "metadata": {
    "execution": {
     "iopub.execute_input": "2024-11-30T00:25:00.719672Z",
     "iopub.status.busy": "2024-11-30T00:25:00.718818Z",
     "iopub.status.idle": "2024-11-30T00:25:00.751249Z",
     "shell.execute_reply": "2024-11-30T00:25:00.750493Z",
     "shell.execute_reply.started": "2024-11-30T00:25:00.719635Z"
    },
    "trusted": true
   },
   "outputs": [
    {
     "name": "stdout",
     "output_type": "stream",
     "text": [
      "Reconstruction Error: 0.00034685671562328935, Anomaly: True\n"
     ]
    }
   ],
   "source": [
    "import numpy as np\n",
    "import torch\n",
    "\n",
    "new_data = np.array([[0,0,0,0,0,0,0,0,0,0,0,0,0,0,0,0,0,0,0,0,0,0,0,0,0]])\n",
    "\n",
    "new_data = sc.transform(new_data)\n",
    "\n",
    "new_data_tensor = torch.tensor(new_data, dtype=torch.float32).unsqueeze(0).to(device)  \n",
    "\n",
    "model.eval()\n",
    "with torch.no_grad():\n",
    "    new_data_reconstructed = model(new_data_tensor)\n",
    "    reconstruction_error = torch.mean((new_data_tensor - new_data_reconstructed) ** 2).item()\n",
    "\n",
    "is_anomaly = reconstruction_error > threshold\n",
    "print(f\"Reconstruction Error: {reconstruction_error}, Anomaly: {is_anomaly}\")\n"
   ]
  }
 ],
 "metadata": {
  "kaggle": {
   "accelerator": "nvidiaTeslaT4",
   "dataSources": [
    {
     "datasetId": 6063935,
     "sourceId": 9877061,
     "sourceType": "datasetVersion"
    },
    {
     "datasetId": 6151897,
     "sourceId": 9995250,
     "sourceType": "datasetVersion"
    },
    {
     "datasetId": 6164281,
     "sourceId": 10012532,
     "sourceType": "datasetVersion"
    }
   ],
   "dockerImageVersionId": 30786,
   "isGpuEnabled": true,
   "isInternetEnabled": true,
   "language": "python",
   "sourceType": "notebook"
  },
  "kernelspec": {
   "display_name": "PT",
   "language": "python",
   "name": "python3"
  },
  "language_info": {
   "codemirror_mode": {
    "name": "ipython",
    "version": 3
   },
   "file_extension": ".py",
   "mimetype": "text/x-python",
   "name": "python",
   "nbconvert_exporter": "python",
   "pygments_lexer": "ipython3",
   "version": "3.12.7"
  }
 },
 "nbformat": 4,
 "nbformat_minor": 4
}
