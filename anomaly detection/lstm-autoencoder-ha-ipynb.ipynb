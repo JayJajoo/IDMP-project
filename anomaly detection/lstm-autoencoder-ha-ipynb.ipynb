{
 "cells": [
  {
   "cell_type": "code",
   "execution_count": 1,
   "metadata": {
    "_cell_guid": "b1076dfc-b9ad-4769-8c92-a6c4dae69d19",
    "_uuid": "8f2839f25d086af736a60e9eeb907d3b93b6e0e5",
    "execution": {
     "iopub.execute_input": "2024-11-29T23:26:58.253443Z",
     "iopub.status.busy": "2024-11-29T23:26:58.253145Z",
     "iopub.status.idle": "2024-11-29T23:27:02.097694Z",
     "shell.execute_reply": "2024-11-29T23:27:02.096976Z",
     "shell.execute_reply.started": "2024-11-29T23:26:58.253417Z"
    },
    "trusted": true
   },
   "outputs": [],
   "source": [
    "import torch\n",
    "import torch.nn as nn\n",
    "import torch.optim as optim\n",
    "from torch.utils.data import DataLoader, TensorDataset\n",
    "import numpy as np\n",
    "import pandas as pd\n",
    "from sklearn.preprocessing import StandardScaler\n",
    "import torch\n",
    "from torch.cuda.amp import autocast, GradScaler"
   ]
  },
  {
   "cell_type": "code",
   "execution_count": 2,
   "metadata": {
    "execution": {
     "iopub.execute_input": "2024-11-29T23:27:10.655796Z",
     "iopub.status.busy": "2024-11-29T23:27:10.654863Z",
     "iopub.status.idle": "2024-11-29T23:27:14.413330Z",
     "shell.execute_reply": "2024-11-29T23:27:14.412590Z",
     "shell.execute_reply.started": "2024-11-29T23:27:10.655758Z"
    },
    "trusted": true
   },
   "outputs": [],
   "source": [
    "df = pd.read_csv(\"/kaggle/input/house-a/house_a_combined_dataset.csv\")"
   ]
  },
  {
   "cell_type": "code",
   "execution_count": 3,
   "metadata": {
    "execution": {
     "iopub.execute_input": "2024-11-29T23:27:14.415001Z",
     "iopub.status.busy": "2024-11-29T23:27:14.414732Z",
     "iopub.status.idle": "2024-11-29T23:27:14.659699Z",
     "shell.execute_reply": "2024-11-29T23:27:14.658847Z",
     "shell.execute_reply.started": "2024-11-29T23:27:14.414975Z"
    },
    "trusted": true
   },
   "outputs": [
    {
     "data": {
      "text/html": [
       "<div>\n",
       "<style scoped>\n",
       "    .dataframe tbody tr th:only-of-type {\n",
       "        vertical-align: middle;\n",
       "    }\n",
       "\n",
       "    .dataframe tbody tr th {\n",
       "        vertical-align: top;\n",
       "    }\n",
       "\n",
       "    .dataframe thead th {\n",
       "        text-align: right;\n",
       "    }\n",
       "</style>\n",
       "<table border=\"1\" class=\"dataframe\">\n",
       "  <thead>\n",
       "    <tr style=\"text-align: right;\">\n",
       "      <th></th>\n",
       "      <th>Unnamed: 0</th>\n",
       "      <th>photocell_wardrobe</th>\n",
       "      <th>photocell_couch</th>\n",
       "      <th>ir_tv_receiver</th>\n",
       "      <th>force_couch_1</th>\n",
       "      <th>force_couch_2</th>\n",
       "      <th>distance_chair_1</th>\n",
       "      <th>distance_chair_2</th>\n",
       "      <th>photocell_fridge</th>\n",
       "      <th>photocell_kitchen_drawer</th>\n",
       "      <th>...</th>\n",
       "      <th>contact_shower_door</th>\n",
       "      <th>sonar_hall</th>\n",
       "      <th>sonar_kitchen</th>\n",
       "      <th>distance_tap</th>\n",
       "      <th>distance_water_closet</th>\n",
       "      <th>temperature_kitchen</th>\n",
       "      <th>force_bed</th>\n",
       "      <th>Resident1</th>\n",
       "      <th>Resident2</th>\n",
       "      <th>Hour</th>\n",
       "    </tr>\n",
       "  </thead>\n",
       "  <tbody>\n",
       "    <tr>\n",
       "      <th>0</th>\n",
       "      <td>0</td>\n",
       "      <td>0</td>\n",
       "      <td>0</td>\n",
       "      <td>0</td>\n",
       "      <td>0</td>\n",
       "      <td>0</td>\n",
       "      <td>0</td>\n",
       "      <td>0</td>\n",
       "      <td>0</td>\n",
       "      <td>0</td>\n",
       "      <td>...</td>\n",
       "      <td>0</td>\n",
       "      <td>0</td>\n",
       "      <td>0</td>\n",
       "      <td>0</td>\n",
       "      <td>0</td>\n",
       "      <td>0</td>\n",
       "      <td>0</td>\n",
       "      <td>12</td>\n",
       "      <td>17</td>\n",
       "      <td>0</td>\n",
       "    </tr>\n",
       "    <tr>\n",
       "      <th>1</th>\n",
       "      <td>1</td>\n",
       "      <td>0</td>\n",
       "      <td>0</td>\n",
       "      <td>0</td>\n",
       "      <td>0</td>\n",
       "      <td>0</td>\n",
       "      <td>0</td>\n",
       "      <td>0</td>\n",
       "      <td>0</td>\n",
       "      <td>0</td>\n",
       "      <td>...</td>\n",
       "      <td>0</td>\n",
       "      <td>0</td>\n",
       "      <td>0</td>\n",
       "      <td>0</td>\n",
       "      <td>0</td>\n",
       "      <td>0</td>\n",
       "      <td>0</td>\n",
       "      <td>12</td>\n",
       "      <td>17</td>\n",
       "      <td>0</td>\n",
       "    </tr>\n",
       "    <tr>\n",
       "      <th>2</th>\n",
       "      <td>2</td>\n",
       "      <td>0</td>\n",
       "      <td>0</td>\n",
       "      <td>0</td>\n",
       "      <td>0</td>\n",
       "      <td>0</td>\n",
       "      <td>0</td>\n",
       "      <td>0</td>\n",
       "      <td>0</td>\n",
       "      <td>0</td>\n",
       "      <td>...</td>\n",
       "      <td>0</td>\n",
       "      <td>0</td>\n",
       "      <td>0</td>\n",
       "      <td>0</td>\n",
       "      <td>0</td>\n",
       "      <td>0</td>\n",
       "      <td>0</td>\n",
       "      <td>12</td>\n",
       "      <td>17</td>\n",
       "      <td>0</td>\n",
       "    </tr>\n",
       "    <tr>\n",
       "      <th>3</th>\n",
       "      <td>3</td>\n",
       "      <td>0</td>\n",
       "      <td>0</td>\n",
       "      <td>0</td>\n",
       "      <td>0</td>\n",
       "      <td>0</td>\n",
       "      <td>0</td>\n",
       "      <td>0</td>\n",
       "      <td>0</td>\n",
       "      <td>0</td>\n",
       "      <td>...</td>\n",
       "      <td>0</td>\n",
       "      <td>0</td>\n",
       "      <td>0</td>\n",
       "      <td>0</td>\n",
       "      <td>0</td>\n",
       "      <td>0</td>\n",
       "      <td>0</td>\n",
       "      <td>12</td>\n",
       "      <td>17</td>\n",
       "      <td>0</td>\n",
       "    </tr>\n",
       "    <tr>\n",
       "      <th>4</th>\n",
       "      <td>4</td>\n",
       "      <td>0</td>\n",
       "      <td>0</td>\n",
       "      <td>0</td>\n",
       "      <td>0</td>\n",
       "      <td>0</td>\n",
       "      <td>0</td>\n",
       "      <td>0</td>\n",
       "      <td>0</td>\n",
       "      <td>0</td>\n",
       "      <td>...</td>\n",
       "      <td>0</td>\n",
       "      <td>0</td>\n",
       "      <td>0</td>\n",
       "      <td>0</td>\n",
       "      <td>0</td>\n",
       "      <td>0</td>\n",
       "      <td>0</td>\n",
       "      <td>12</td>\n",
       "      <td>17</td>\n",
       "      <td>0</td>\n",
       "    </tr>\n",
       "    <tr>\n",
       "      <th>...</th>\n",
       "      <td>...</td>\n",
       "      <td>...</td>\n",
       "      <td>...</td>\n",
       "      <td>...</td>\n",
       "      <td>...</td>\n",
       "      <td>...</td>\n",
       "      <td>...</td>\n",
       "      <td>...</td>\n",
       "      <td>...</td>\n",
       "      <td>...</td>\n",
       "      <td>...</td>\n",
       "      <td>...</td>\n",
       "      <td>...</td>\n",
       "      <td>...</td>\n",
       "      <td>...</td>\n",
       "      <td>...</td>\n",
       "      <td>...</td>\n",
       "      <td>...</td>\n",
       "      <td>...</td>\n",
       "      <td>...</td>\n",
       "      <td>...</td>\n",
       "    </tr>\n",
       "    <tr>\n",
       "      <th>2591995</th>\n",
       "      <td>86395</td>\n",
       "      <td>0</td>\n",
       "      <td>0</td>\n",
       "      <td>0</td>\n",
       "      <td>0</td>\n",
       "      <td>1</td>\n",
       "      <td>0</td>\n",
       "      <td>0</td>\n",
       "      <td>0</td>\n",
       "      <td>0</td>\n",
       "      <td>...</td>\n",
       "      <td>0</td>\n",
       "      <td>0</td>\n",
       "      <td>0</td>\n",
       "      <td>0</td>\n",
       "      <td>0</td>\n",
       "      <td>0</td>\n",
       "      <td>0</td>\n",
       "      <td>12</td>\n",
       "      <td>2</td>\n",
       "      <td>23</td>\n",
       "    </tr>\n",
       "    <tr>\n",
       "      <th>2591996</th>\n",
       "      <td>86396</td>\n",
       "      <td>0</td>\n",
       "      <td>0</td>\n",
       "      <td>0</td>\n",
       "      <td>0</td>\n",
       "      <td>1</td>\n",
       "      <td>0</td>\n",
       "      <td>0</td>\n",
       "      <td>0</td>\n",
       "      <td>0</td>\n",
       "      <td>...</td>\n",
       "      <td>0</td>\n",
       "      <td>0</td>\n",
       "      <td>0</td>\n",
       "      <td>0</td>\n",
       "      <td>0</td>\n",
       "      <td>0</td>\n",
       "      <td>0</td>\n",
       "      <td>12</td>\n",
       "      <td>2</td>\n",
       "      <td>23</td>\n",
       "    </tr>\n",
       "    <tr>\n",
       "      <th>2591997</th>\n",
       "      <td>86397</td>\n",
       "      <td>0</td>\n",
       "      <td>0</td>\n",
       "      <td>0</td>\n",
       "      <td>0</td>\n",
       "      <td>1</td>\n",
       "      <td>0</td>\n",
       "      <td>0</td>\n",
       "      <td>0</td>\n",
       "      <td>0</td>\n",
       "      <td>...</td>\n",
       "      <td>0</td>\n",
       "      <td>0</td>\n",
       "      <td>0</td>\n",
       "      <td>0</td>\n",
       "      <td>0</td>\n",
       "      <td>0</td>\n",
       "      <td>0</td>\n",
       "      <td>12</td>\n",
       "      <td>2</td>\n",
       "      <td>23</td>\n",
       "    </tr>\n",
       "    <tr>\n",
       "      <th>2591998</th>\n",
       "      <td>86398</td>\n",
       "      <td>0</td>\n",
       "      <td>0</td>\n",
       "      <td>0</td>\n",
       "      <td>0</td>\n",
       "      <td>1</td>\n",
       "      <td>0</td>\n",
       "      <td>0</td>\n",
       "      <td>0</td>\n",
       "      <td>0</td>\n",
       "      <td>...</td>\n",
       "      <td>0</td>\n",
       "      <td>0</td>\n",
       "      <td>0</td>\n",
       "      <td>0</td>\n",
       "      <td>0</td>\n",
       "      <td>0</td>\n",
       "      <td>0</td>\n",
       "      <td>12</td>\n",
       "      <td>2</td>\n",
       "      <td>23</td>\n",
       "    </tr>\n",
       "    <tr>\n",
       "      <th>2591999</th>\n",
       "      <td>86399</td>\n",
       "      <td>0</td>\n",
       "      <td>0</td>\n",
       "      <td>0</td>\n",
       "      <td>0</td>\n",
       "      <td>1</td>\n",
       "      <td>0</td>\n",
       "      <td>0</td>\n",
       "      <td>0</td>\n",
       "      <td>0</td>\n",
       "      <td>...</td>\n",
       "      <td>0</td>\n",
       "      <td>0</td>\n",
       "      <td>0</td>\n",
       "      <td>0</td>\n",
       "      <td>0</td>\n",
       "      <td>0</td>\n",
       "      <td>0</td>\n",
       "      <td>12</td>\n",
       "      <td>2</td>\n",
       "      <td>23</td>\n",
       "    </tr>\n",
       "  </tbody>\n",
       "</table>\n",
       "<p>2592000 rows × 24 columns</p>\n",
       "</div>"
      ],
      "text/plain": [
       "         Unnamed: 0  photocell_wardrobe  photocell_couch  ir_tv_receiver  \\\n",
       "0                 0                   0                0               0   \n",
       "1                 1                   0                0               0   \n",
       "2                 2                   0                0               0   \n",
       "3                 3                   0                0               0   \n",
       "4                 4                   0                0               0   \n",
       "...             ...                 ...              ...             ...   \n",
       "2591995       86395                   0                0               0   \n",
       "2591996       86396                   0                0               0   \n",
       "2591997       86397                   0                0               0   \n",
       "2591998       86398                   0                0               0   \n",
       "2591999       86399                   0                0               0   \n",
       "\n",
       "         force_couch_1  force_couch_2  distance_chair_1  distance_chair_2  \\\n",
       "0                    0              0                 0                 0   \n",
       "1                    0              0                 0                 0   \n",
       "2                    0              0                 0                 0   \n",
       "3                    0              0                 0                 0   \n",
       "4                    0              0                 0                 0   \n",
       "...                ...            ...               ...               ...   \n",
       "2591995              0              1                 0                 0   \n",
       "2591996              0              1                 0                 0   \n",
       "2591997              0              1                 0                 0   \n",
       "2591998              0              1                 0                 0   \n",
       "2591999              0              1                 0                 0   \n",
       "\n",
       "         photocell_fridge  photocell_kitchen_drawer  ...  contact_shower_door  \\\n",
       "0                       0                         0  ...                    0   \n",
       "1                       0                         0  ...                    0   \n",
       "2                       0                         0  ...                    0   \n",
       "3                       0                         0  ...                    0   \n",
       "4                       0                         0  ...                    0   \n",
       "...                   ...                       ...  ...                  ...   \n",
       "2591995                 0                         0  ...                    0   \n",
       "2591996                 0                         0  ...                    0   \n",
       "2591997                 0                         0  ...                    0   \n",
       "2591998                 0                         0  ...                    0   \n",
       "2591999                 0                         0  ...                    0   \n",
       "\n",
       "         sonar_hall  sonar_kitchen  distance_tap  distance_water_closet  \\\n",
       "0                 0              0             0                      0   \n",
       "1                 0              0             0                      0   \n",
       "2                 0              0             0                      0   \n",
       "3                 0              0             0                      0   \n",
       "4                 0              0             0                      0   \n",
       "...             ...            ...           ...                    ...   \n",
       "2591995           0              0             0                      0   \n",
       "2591996           0              0             0                      0   \n",
       "2591997           0              0             0                      0   \n",
       "2591998           0              0             0                      0   \n",
       "2591999           0              0             0                      0   \n",
       "\n",
       "         temperature_kitchen  force_bed  Resident1  Resident2  Hour  \n",
       "0                          0          0         12         17     0  \n",
       "1                          0          0         12         17     0  \n",
       "2                          0          0         12         17     0  \n",
       "3                          0          0         12         17     0  \n",
       "4                          0          0         12         17     0  \n",
       "...                      ...        ...        ...        ...   ...  \n",
       "2591995                    0          0         12          2    23  \n",
       "2591996                    0          0         12          2    23  \n",
       "2591997                    0          0         12          2    23  \n",
       "2591998                    0          0         12          2    23  \n",
       "2591999                    0          0         12          2    23  \n",
       "\n",
       "[2592000 rows x 24 columns]"
      ]
     },
     "execution_count": 3,
     "metadata": {},
     "output_type": "execute_result"
    }
   ],
   "source": [
    "df"
   ]
  },
  {
   "cell_type": "code",
   "execution_count": 5,
   "metadata": {
    "execution": {
     "iopub.execute_input": "2024-11-29T23:27:29.323573Z",
     "iopub.status.busy": "2024-11-29T23:27:29.323220Z",
     "iopub.status.idle": "2024-11-29T23:27:29.331949Z",
     "shell.execute_reply": "2024-11-29T23:27:29.331245Z",
     "shell.execute_reply.started": "2024-11-29T23:27:29.323545Z"
    },
    "trusted": true
   },
   "outputs": [],
   "source": [
    "weeks = [[(i*7)*86400 , (i*7+7)*86400 if len(df)>(i*7+7)*86400 else len(df) ] for i in range(int(30/7)+1)]\n",
    "for index,week in enumerate(weeks):\n",
    "    df.loc[week[0]:week[1],\"Week\"]= int(index)+1"
   ]
  },
  {
   "cell_type": "code",
   "execution_count": 6,
   "metadata": {
    "execution": {
     "iopub.execute_input": "2024-11-29T23:27:32.586249Z",
     "iopub.status.busy": "2024-11-29T23:27:32.585417Z",
     "iopub.status.idle": "2024-11-29T23:27:33.220613Z",
     "shell.execute_reply": "2024-11-29T23:27:33.219567Z",
     "shell.execute_reply.started": "2024-11-29T23:27:32.586202Z"
    },
    "trusted": true
   },
   "outputs": [
    {
     "data": {
      "text/html": [
       "<div>\n",
       "<style scoped>\n",
       "    .dataframe tbody tr th:only-of-type {\n",
       "        vertical-align: middle;\n",
       "    }\n",
       "\n",
       "    .dataframe tbody tr th {\n",
       "        vertical-align: top;\n",
       "    }\n",
       "\n",
       "    .dataframe thead th {\n",
       "        text-align: right;\n",
       "    }\n",
       "</style>\n",
       "<table border=\"1\" class=\"dataframe\">\n",
       "  <thead>\n",
       "    <tr style=\"text-align: right;\">\n",
       "      <th></th>\n",
       "      <th>Unnamed: 0</th>\n",
       "      <th>photocell_wardrobe</th>\n",
       "      <th>photocell_couch</th>\n",
       "      <th>ir_tv_receiver</th>\n",
       "      <th>force_couch_1</th>\n",
       "      <th>force_couch_2</th>\n",
       "      <th>distance_chair_1</th>\n",
       "      <th>distance_chair_2</th>\n",
       "      <th>photocell_fridge</th>\n",
       "      <th>photocell_kitchen_drawer</th>\n",
       "      <th>...</th>\n",
       "      <th>sonar_kitchen</th>\n",
       "      <th>distance_tap</th>\n",
       "      <th>distance_water_closet</th>\n",
       "      <th>temperature_kitchen</th>\n",
       "      <th>force_bed</th>\n",
       "      <th>Resident1</th>\n",
       "      <th>Resident2</th>\n",
       "      <th>Hour</th>\n",
       "      <th>Week</th>\n",
       "      <th>Day Of Week</th>\n",
       "    </tr>\n",
       "  </thead>\n",
       "  <tbody>\n",
       "    <tr>\n",
       "      <th>0</th>\n",
       "      <td>0</td>\n",
       "      <td>0</td>\n",
       "      <td>0</td>\n",
       "      <td>0</td>\n",
       "      <td>0</td>\n",
       "      <td>0</td>\n",
       "      <td>0</td>\n",
       "      <td>0</td>\n",
       "      <td>0</td>\n",
       "      <td>0</td>\n",
       "      <td>...</td>\n",
       "      <td>0</td>\n",
       "      <td>0</td>\n",
       "      <td>0</td>\n",
       "      <td>0</td>\n",
       "      <td>0</td>\n",
       "      <td>12</td>\n",
       "      <td>17</td>\n",
       "      <td>0</td>\n",
       "      <td>1.0</td>\n",
       "      <td>1.0</td>\n",
       "    </tr>\n",
       "    <tr>\n",
       "      <th>1</th>\n",
       "      <td>1</td>\n",
       "      <td>0</td>\n",
       "      <td>0</td>\n",
       "      <td>0</td>\n",
       "      <td>0</td>\n",
       "      <td>0</td>\n",
       "      <td>0</td>\n",
       "      <td>0</td>\n",
       "      <td>0</td>\n",
       "      <td>0</td>\n",
       "      <td>...</td>\n",
       "      <td>0</td>\n",
       "      <td>0</td>\n",
       "      <td>0</td>\n",
       "      <td>0</td>\n",
       "      <td>0</td>\n",
       "      <td>12</td>\n",
       "      <td>17</td>\n",
       "      <td>0</td>\n",
       "      <td>1.0</td>\n",
       "      <td>1.0</td>\n",
       "    </tr>\n",
       "    <tr>\n",
       "      <th>2</th>\n",
       "      <td>2</td>\n",
       "      <td>0</td>\n",
       "      <td>0</td>\n",
       "      <td>0</td>\n",
       "      <td>0</td>\n",
       "      <td>0</td>\n",
       "      <td>0</td>\n",
       "      <td>0</td>\n",
       "      <td>0</td>\n",
       "      <td>0</td>\n",
       "      <td>...</td>\n",
       "      <td>0</td>\n",
       "      <td>0</td>\n",
       "      <td>0</td>\n",
       "      <td>0</td>\n",
       "      <td>0</td>\n",
       "      <td>12</td>\n",
       "      <td>17</td>\n",
       "      <td>0</td>\n",
       "      <td>1.0</td>\n",
       "      <td>1.0</td>\n",
       "    </tr>\n",
       "    <tr>\n",
       "      <th>3</th>\n",
       "      <td>3</td>\n",
       "      <td>0</td>\n",
       "      <td>0</td>\n",
       "      <td>0</td>\n",
       "      <td>0</td>\n",
       "      <td>0</td>\n",
       "      <td>0</td>\n",
       "      <td>0</td>\n",
       "      <td>0</td>\n",
       "      <td>0</td>\n",
       "      <td>...</td>\n",
       "      <td>0</td>\n",
       "      <td>0</td>\n",
       "      <td>0</td>\n",
       "      <td>0</td>\n",
       "      <td>0</td>\n",
       "      <td>12</td>\n",
       "      <td>17</td>\n",
       "      <td>0</td>\n",
       "      <td>1.0</td>\n",
       "      <td>1.0</td>\n",
       "    </tr>\n",
       "    <tr>\n",
       "      <th>4</th>\n",
       "      <td>4</td>\n",
       "      <td>0</td>\n",
       "      <td>0</td>\n",
       "      <td>0</td>\n",
       "      <td>0</td>\n",
       "      <td>0</td>\n",
       "      <td>0</td>\n",
       "      <td>0</td>\n",
       "      <td>0</td>\n",
       "      <td>0</td>\n",
       "      <td>...</td>\n",
       "      <td>0</td>\n",
       "      <td>0</td>\n",
       "      <td>0</td>\n",
       "      <td>0</td>\n",
       "      <td>0</td>\n",
       "      <td>12</td>\n",
       "      <td>17</td>\n",
       "      <td>0</td>\n",
       "      <td>1.0</td>\n",
       "      <td>1.0</td>\n",
       "    </tr>\n",
       "    <tr>\n",
       "      <th>...</th>\n",
       "      <td>...</td>\n",
       "      <td>...</td>\n",
       "      <td>...</td>\n",
       "      <td>...</td>\n",
       "      <td>...</td>\n",
       "      <td>...</td>\n",
       "      <td>...</td>\n",
       "      <td>...</td>\n",
       "      <td>...</td>\n",
       "      <td>...</td>\n",
       "      <td>...</td>\n",
       "      <td>...</td>\n",
       "      <td>...</td>\n",
       "      <td>...</td>\n",
       "      <td>...</td>\n",
       "      <td>...</td>\n",
       "      <td>...</td>\n",
       "      <td>...</td>\n",
       "      <td>...</td>\n",
       "      <td>...</td>\n",
       "      <td>...</td>\n",
       "    </tr>\n",
       "    <tr>\n",
       "      <th>2591995</th>\n",
       "      <td>86395</td>\n",
       "      <td>0</td>\n",
       "      <td>0</td>\n",
       "      <td>0</td>\n",
       "      <td>0</td>\n",
       "      <td>1</td>\n",
       "      <td>0</td>\n",
       "      <td>0</td>\n",
       "      <td>0</td>\n",
       "      <td>0</td>\n",
       "      <td>...</td>\n",
       "      <td>0</td>\n",
       "      <td>0</td>\n",
       "      <td>0</td>\n",
       "      <td>0</td>\n",
       "      <td>0</td>\n",
       "      <td>12</td>\n",
       "      <td>2</td>\n",
       "      <td>23</td>\n",
       "      <td>5.0</td>\n",
       "      <td>2.0</td>\n",
       "    </tr>\n",
       "    <tr>\n",
       "      <th>2591996</th>\n",
       "      <td>86396</td>\n",
       "      <td>0</td>\n",
       "      <td>0</td>\n",
       "      <td>0</td>\n",
       "      <td>0</td>\n",
       "      <td>1</td>\n",
       "      <td>0</td>\n",
       "      <td>0</td>\n",
       "      <td>0</td>\n",
       "      <td>0</td>\n",
       "      <td>...</td>\n",
       "      <td>0</td>\n",
       "      <td>0</td>\n",
       "      <td>0</td>\n",
       "      <td>0</td>\n",
       "      <td>0</td>\n",
       "      <td>12</td>\n",
       "      <td>2</td>\n",
       "      <td>23</td>\n",
       "      <td>5.0</td>\n",
       "      <td>2.0</td>\n",
       "    </tr>\n",
       "    <tr>\n",
       "      <th>2591997</th>\n",
       "      <td>86397</td>\n",
       "      <td>0</td>\n",
       "      <td>0</td>\n",
       "      <td>0</td>\n",
       "      <td>0</td>\n",
       "      <td>1</td>\n",
       "      <td>0</td>\n",
       "      <td>0</td>\n",
       "      <td>0</td>\n",
       "      <td>0</td>\n",
       "      <td>...</td>\n",
       "      <td>0</td>\n",
       "      <td>0</td>\n",
       "      <td>0</td>\n",
       "      <td>0</td>\n",
       "      <td>0</td>\n",
       "      <td>12</td>\n",
       "      <td>2</td>\n",
       "      <td>23</td>\n",
       "      <td>5.0</td>\n",
       "      <td>2.0</td>\n",
       "    </tr>\n",
       "    <tr>\n",
       "      <th>2591998</th>\n",
       "      <td>86398</td>\n",
       "      <td>0</td>\n",
       "      <td>0</td>\n",
       "      <td>0</td>\n",
       "      <td>0</td>\n",
       "      <td>1</td>\n",
       "      <td>0</td>\n",
       "      <td>0</td>\n",
       "      <td>0</td>\n",
       "      <td>0</td>\n",
       "      <td>...</td>\n",
       "      <td>0</td>\n",
       "      <td>0</td>\n",
       "      <td>0</td>\n",
       "      <td>0</td>\n",
       "      <td>0</td>\n",
       "      <td>12</td>\n",
       "      <td>2</td>\n",
       "      <td>23</td>\n",
       "      <td>5.0</td>\n",
       "      <td>2.0</td>\n",
       "    </tr>\n",
       "    <tr>\n",
       "      <th>2591999</th>\n",
       "      <td>86399</td>\n",
       "      <td>0</td>\n",
       "      <td>0</td>\n",
       "      <td>0</td>\n",
       "      <td>0</td>\n",
       "      <td>1</td>\n",
       "      <td>0</td>\n",
       "      <td>0</td>\n",
       "      <td>0</td>\n",
       "      <td>0</td>\n",
       "      <td>...</td>\n",
       "      <td>0</td>\n",
       "      <td>0</td>\n",
       "      <td>0</td>\n",
       "      <td>0</td>\n",
       "      <td>0</td>\n",
       "      <td>12</td>\n",
       "      <td>2</td>\n",
       "      <td>23</td>\n",
       "      <td>5.0</td>\n",
       "      <td>2.0</td>\n",
       "    </tr>\n",
       "  </tbody>\n",
       "</table>\n",
       "<p>2592000 rows × 26 columns</p>\n",
       "</div>"
      ],
      "text/plain": [
       "         Unnamed: 0  photocell_wardrobe  photocell_couch  ir_tv_receiver  \\\n",
       "0                 0                   0                0               0   \n",
       "1                 1                   0                0               0   \n",
       "2                 2                   0                0               0   \n",
       "3                 3                   0                0               0   \n",
       "4                 4                   0                0               0   \n",
       "...             ...                 ...              ...             ...   \n",
       "2591995       86395                   0                0               0   \n",
       "2591996       86396                   0                0               0   \n",
       "2591997       86397                   0                0               0   \n",
       "2591998       86398                   0                0               0   \n",
       "2591999       86399                   0                0               0   \n",
       "\n",
       "         force_couch_1  force_couch_2  distance_chair_1  distance_chair_2  \\\n",
       "0                    0              0                 0                 0   \n",
       "1                    0              0                 0                 0   \n",
       "2                    0              0                 0                 0   \n",
       "3                    0              0                 0                 0   \n",
       "4                    0              0                 0                 0   \n",
       "...                ...            ...               ...               ...   \n",
       "2591995              0              1                 0                 0   \n",
       "2591996              0              1                 0                 0   \n",
       "2591997              0              1                 0                 0   \n",
       "2591998              0              1                 0                 0   \n",
       "2591999              0              1                 0                 0   \n",
       "\n",
       "         photocell_fridge  photocell_kitchen_drawer  ...  sonar_kitchen  \\\n",
       "0                       0                         0  ...              0   \n",
       "1                       0                         0  ...              0   \n",
       "2                       0                         0  ...              0   \n",
       "3                       0                         0  ...              0   \n",
       "4                       0                         0  ...              0   \n",
       "...                   ...                       ...  ...            ...   \n",
       "2591995                 0                         0  ...              0   \n",
       "2591996                 0                         0  ...              0   \n",
       "2591997                 0                         0  ...              0   \n",
       "2591998                 0                         0  ...              0   \n",
       "2591999                 0                         0  ...              0   \n",
       "\n",
       "         distance_tap  distance_water_closet  temperature_kitchen  force_bed  \\\n",
       "0                   0                      0                    0          0   \n",
       "1                   0                      0                    0          0   \n",
       "2                   0                      0                    0          0   \n",
       "3                   0                      0                    0          0   \n",
       "4                   0                      0                    0          0   \n",
       "...               ...                    ...                  ...        ...   \n",
       "2591995             0                      0                    0          0   \n",
       "2591996             0                      0                    0          0   \n",
       "2591997             0                      0                    0          0   \n",
       "2591998             0                      0                    0          0   \n",
       "2591999             0                      0                    0          0   \n",
       "\n",
       "         Resident1  Resident2  Hour  Week  Day Of Week  \n",
       "0               12         17     0   1.0          1.0  \n",
       "1               12         17     0   1.0          1.0  \n",
       "2               12         17     0   1.0          1.0  \n",
       "3               12         17     0   1.0          1.0  \n",
       "4               12         17     0   1.0          1.0  \n",
       "...            ...        ...   ...   ...          ...  \n",
       "2591995         12          2    23   5.0          2.0  \n",
       "2591996         12          2    23   5.0          2.0  \n",
       "2591997         12          2    23   5.0          2.0  \n",
       "2591998         12          2    23   5.0          2.0  \n",
       "2591999         12          2    23   5.0          2.0  \n",
       "\n",
       "[2592000 rows x 26 columns]"
      ]
     },
     "execution_count": 6,
     "metadata": {},
     "output_type": "execute_result"
    }
   ],
   "source": [
    "for i in range(int(len(df)/86400)):\n",
    "    df.loc[i*86400:(i*86400)+86400,\"Day Of Week\"] = (i%7)+1\n",
    "df"
   ]
  },
  {
   "cell_type": "code",
   "execution_count": 8,
   "metadata": {
    "execution": {
     "iopub.execute_input": "2024-11-29T23:28:02.411241Z",
     "iopub.status.busy": "2024-11-29T23:28:02.410408Z",
     "iopub.status.idle": "2024-11-29T23:28:02.735951Z",
     "shell.execute_reply": "2024-11-29T23:28:02.735060Z",
     "shell.execute_reply.started": "2024-11-29T23:28:02.411208Z"
    },
    "trusted": true
   },
   "outputs": [
    {
     "name": "stdout",
     "output_type": "stream",
     "text": [
      "Index(['photocell_wardrobe', 'photocell_couch', 'ir_tv_receiver',\n",
      "       'force_couch_1', 'force_couch_2', 'distance_chair_1',\n",
      "       'distance_chair_2', 'photocell_fridge', 'photocell_kitchen_drawer',\n",
      "       'photocell_wardrobe_2', 'photocell_bathroom_cabinet',\n",
      "       'contact_house_door', 'contact_bathroom_door', 'contact_shower_door',\n",
      "       'sonar_hall', 'sonar_kitchen', 'distance_tap', 'distance_water_closet',\n",
      "       'temperature_kitchen', 'force_bed', 'Resident1', 'Resident2', 'Hour',\n",
      "       'Week', 'Day Of Week'],\n",
      "      dtype='object')\n"
     ]
    }
   ],
   "source": [
    "# Assuming 'df' is the DataFrame that contains your data\n",
    "# Preprocessing: Drop the Hour, Resident columns for simplicity\n",
    "data = df.drop(columns=['Unnamed: 0']) # Remove non-sensor data\n",
    "print(data.columns)\n",
    "data = data.values "
   ]
  },
  {
   "cell_type": "code",
   "execution_count": 9,
   "metadata": {
    "execution": {
     "iopub.execute_input": "2024-11-29T23:28:06.724783Z",
     "iopub.status.busy": "2024-11-29T23:28:06.723952Z",
     "iopub.status.idle": "2024-11-29T23:28:07.504543Z",
     "shell.execute_reply": "2024-11-29T23:28:07.503770Z",
     "shell.execute_reply.started": "2024-11-29T23:28:06.724747Z"
    },
    "trusted": true
   },
   "outputs": [],
   "source": [
    "# Normalize or standardize data if needed\n",
    "sc = StandardScaler()\n",
    "data = sc.fit_transform(data)  # Normalize sensor data (optional)"
   ]
  },
  {
   "cell_type": "code",
   "execution_count": 10,
   "metadata": {
    "execution": {
     "iopub.execute_input": "2024-11-29T23:28:08.134899Z",
     "iopub.status.busy": "2024-11-29T23:28:08.134057Z",
     "iopub.status.idle": "2024-11-29T23:28:08.140955Z",
     "shell.execute_reply": "2024-11-29T23:28:08.140222Z",
     "shell.execute_reply.started": "2024-11-29T23:28:08.134866Z"
    },
    "trusted": true
   },
   "outputs": [
    {
     "data": {
      "text/plain": [
       "['/kaggle/working/standardscaler_ha.joblib']"
      ]
     },
     "execution_count": 10,
     "metadata": {},
     "output_type": "execute_result"
    }
   ],
   "source": [
    "from joblib import dump\n",
    "\n",
    "dump(sc, \"/kaggle/working/standardscaler_ha.joblib\")"
   ]
  },
  {
   "cell_type": "code",
   "execution_count": 11,
   "metadata": {
    "execution": {
     "iopub.execute_input": "2024-11-29T23:28:10.647904Z",
     "iopub.status.busy": "2024-11-29T23:28:10.647292Z",
     "iopub.status.idle": "2024-11-29T23:28:10.785155Z",
     "shell.execute_reply": "2024-11-29T23:28:10.784374Z",
     "shell.execute_reply.started": "2024-11-29T23:28:10.647868Z"
    },
    "trusted": true
   },
   "outputs": [],
   "source": [
    "# Convert data to tensor\n",
    "data_tensor = torch.tensor(data, dtype=torch.float32)"
   ]
  },
  {
   "cell_type": "code",
   "execution_count": 29,
   "metadata": {
    "execution": {
     "iopub.execute_input": "2024-11-29T23:33:22.739057Z",
     "iopub.status.busy": "2024-11-29T23:33:22.738042Z",
     "iopub.status.idle": "2024-11-29T23:33:22.744782Z",
     "shell.execute_reply": "2024-11-29T23:33:22.743570Z",
     "shell.execute_reply.started": "2024-11-29T23:33:22.739006Z"
    },
    "trusted": true
   },
   "outputs": [],
   "source": [
    "# Create Dataset and DataLoader for batch processing\n",
    "batch_size = 2**17  # Adjust based on GPU memory availability\n",
    "dataset = TensorDataset(data_tensor)\n",
    "data_loader = DataLoader(dataset, batch_size=batch_size, shuffle=True)"
   ]
  },
  {
   "cell_type": "code",
   "execution_count": 30,
   "metadata": {
    "execution": {
     "iopub.execute_input": "2024-11-29T23:33:22.986289Z",
     "iopub.status.busy": "2024-11-29T23:33:22.985346Z",
     "iopub.status.idle": "2024-11-29T23:33:22.994614Z",
     "shell.execute_reply": "2024-11-29T23:33:22.993510Z",
     "shell.execute_reply.started": "2024-11-29T23:33:22.986248Z"
    },
    "trusted": true
   },
   "outputs": [],
   "source": [
    "import torch\n",
    "import torch.nn as nn\n",
    "\n",
    "class LSTM_Autoencoder(nn.Module):\n",
    "    def __init__(self, input_size, hidden_size, seq_len):\n",
    "        super(LSTM_Autoencoder, self).__init__()\n",
    "        self.encoder = nn.LSTM(input_size, hidden_size, batch_first=True)\n",
    "        self.decoder = nn.LSTM(hidden_size, hidden_size, batch_first=True)\n",
    "        self.output_layer = nn.Linear(hidden_size, input_size)\n",
    "        self.hidden_size = hidden_size\n",
    "        self.seq_len = seq_len\n",
    "\n",
    "    def forward(self, x):\n",
    "        # Initialize hidden and cell states for encoder\n",
    "        h0 = torch.zeros(1, x.size(0), self.hidden_size).to(x.device)  # batch_size, hidden_size\n",
    "        c0 = torch.zeros(1, x.size(0), self.hidden_size).to(x.device)  # batch_size, hidden_size\n",
    "        \n",
    "        # Pass through encoder\n",
    "        encoded, (hn, cn) = self.encoder(x, (h0, c0))\n",
    "        \n",
    "        # Pass through decoder\n",
    "        decoded, _ = self.decoder(encoded, (hn, cn))\n",
    "        \n",
    "        # Map decoded output back to input size\n",
    "        decoded = self.output_layer(decoded)\n",
    "        \n",
    "        return decoded\n"
   ]
  },
  {
   "cell_type": "code",
   "execution_count": 31,
   "metadata": {
    "execution": {
     "iopub.execute_input": "2024-11-29T23:33:23.501539Z",
     "iopub.status.busy": "2024-11-29T23:33:23.500745Z",
     "iopub.status.idle": "2024-11-29T23:33:23.505426Z",
     "shell.execute_reply": "2024-11-29T23:33:23.504495Z",
     "shell.execute_reply.started": "2024-11-29T23:33:23.501506Z"
    },
    "trusted": true
   },
   "outputs": [],
   "source": [
    "# Model Hyperparameters\n",
    "input_size = data.shape[1]  # Number of sensor features\n",
    "hidden_size = 256  # You can adjust this based on your model's complexity\n",
    "seq_len = 1  # We are feeding one time step at a time (if you want multi-step sequence, change this)"
   ]
  },
  {
   "cell_type": "code",
   "execution_count": 32,
   "metadata": {
    "execution": {
     "iopub.execute_input": "2024-11-29T23:33:24.053883Z",
     "iopub.status.busy": "2024-11-29T23:33:24.053128Z",
     "iopub.status.idle": "2024-11-29T23:33:24.068233Z",
     "shell.execute_reply": "2024-11-29T23:33:24.067572Z",
     "shell.execute_reply.started": "2024-11-29T23:33:24.053851Z"
    },
    "trusted": true
   },
   "outputs": [],
   "source": [
    "# Initialize the model and move it to GPU\n",
    "device = torch.device('cuda' if torch.cuda.is_available() else 'cpu')\n",
    "model = LSTM_Autoencoder(input_size=input_size, hidden_size=hidden_size, seq_len=seq_len).to(device)"
   ]
  },
  {
   "cell_type": "code",
   "execution_count": 33,
   "metadata": {
    "execution": {
     "iopub.execute_input": "2024-11-29T23:33:25.007851Z",
     "iopub.status.busy": "2024-11-29T23:33:25.007536Z",
     "iopub.status.idle": "2024-11-29T23:33:25.014090Z",
     "shell.execute_reply": "2024-11-29T23:33:25.013319Z",
     "shell.execute_reply.started": "2024-11-29T23:33:25.007826Z"
    },
    "trusted": true
   },
   "outputs": [],
   "source": [
    "model = nn.DataParallel(model)\n",
    "\n",
    "model = model.to(device)"
   ]
  },
  {
   "cell_type": "code",
   "execution_count": 34,
   "metadata": {
    "execution": {
     "iopub.execute_input": "2024-11-29T23:33:25.930171Z",
     "iopub.status.busy": "2024-11-29T23:33:25.929827Z",
     "iopub.status.idle": "2024-11-29T23:33:25.934711Z",
     "shell.execute_reply": "2024-11-29T23:33:25.933690Z",
     "shell.execute_reply.started": "2024-11-29T23:33:25.930142Z"
    },
    "trusted": true
   },
   "outputs": [],
   "source": [
    "# Loss and Optimizer\n",
    "criterion = nn.MSELoss()  # Mean Squared Error for reconstruction loss\n",
    "optimizer = optim.Adam(model.parameters(), lr=0.001)"
   ]
  },
  {
   "cell_type": "code",
   "execution_count": 35,
   "metadata": {
    "execution": {
     "iopub.execute_input": "2024-11-29T23:33:28.459128Z",
     "iopub.status.busy": "2024-11-29T23:33:28.458311Z",
     "iopub.status.idle": "2024-11-30T00:15:44.942103Z",
     "shell.execute_reply": "2024-11-30T00:15:44.941227Z",
     "shell.execute_reply.started": "2024-11-29T23:33:28.459083Z"
    },
    "trusted": true
   },
   "outputs": [
    {
     "name": "stderr",
     "output_type": "stream",
     "text": [
      "/tmp/ipykernel_30/1740040032.py:2: FutureWarning: `torch.cuda.amp.GradScaler(args...)` is deprecated. Please use `torch.amp.GradScaler('cuda', args...)` instead.\n",
      "  scaler = GradScaler()\n",
      "/tmp/ipykernel_30/1740040032.py:13: FutureWarning: `torch.cuda.amp.autocast(args...)` is deprecated. Please use `torch.amp.autocast('cuda', args...)` instead.\n",
      "  with autocast():\n"
     ]
    },
    {
     "name": "stdout",
     "output_type": "stream",
     "text": [
      "Epoch [5/100], Loss: 0.0283\n",
      "Epoch [10/100], Loss: 0.0040\n",
      "Epoch [15/100], Loss: 0.0027\n",
      "Epoch [20/100], Loss: 0.0021\n",
      "Epoch [25/100], Loss: 0.0016\n",
      "Epoch [30/100], Loss: 0.0012\n",
      "Epoch [35/100], Loss: 0.0009\n",
      "Epoch [40/100], Loss: 0.0007\n",
      "Epoch [45/100], Loss: 0.0005\n",
      "Epoch [50/100], Loss: 0.0004\n",
      "Epoch [55/100], Loss: 0.0004\n",
      "Epoch [60/100], Loss: 0.0003\n",
      "Epoch [65/100], Loss: 0.0003\n",
      "Epoch [70/100], Loss: 0.0002\n",
      "Epoch [75/100], Loss: 0.0002\n",
      "Epoch [80/100], Loss: 0.0002\n",
      "Epoch [85/100], Loss: 0.0002\n",
      "Epoch [90/100], Loss: 0.0001\n",
      "Epoch [95/100], Loss: 0.0001\n",
      "Epoch [100/100], Loss: 0.0001\n"
     ]
    }
   ],
   "source": [
    "# Initialize GradScaler for mixed precision training\n",
    "scaler = GradScaler()\n",
    "\n",
    "num_epochs = 100  # Adjust as needed\n",
    "for epoch in range(num_epochs):\n",
    "    model.train()\n",
    "    running_loss = 0.0\n",
    "    for batch_idx, (batch_data,) in enumerate(data_loader):\n",
    "        batch_data = batch_data.to(device)\n",
    "        batch_data = batch_data.unsqueeze(1)  # Ensure correct shape\n",
    "\n",
    "        # Forward and backward pass under autocast for mixed precision\n",
    "        with autocast():\n",
    "            output = model(batch_data)\n",
    "            loss = criterion(output, batch_data)\n",
    "        \n",
    "        # Scale loss to prevent underflow and backpropagate\n",
    "        scaler.scale(loss).backward()\n",
    "        \n",
    "        # Optimizer step with scaled gradients\n",
    "        scaler.step(optimizer)\n",
    "        scaler.update()  # Update scaler for next iteration\n",
    "        optimizer.zero_grad()  # Reset gradients\n",
    "        \n",
    "        running_loss += loss.item()\n",
    "    \n",
    "    avg_loss = running_loss / len(data_loader)\n",
    "    if((epoch+1)%5==0):\n",
    "        print(f'Epoch [{epoch+1}/{num_epochs}], Loss: {avg_loss:.4f}')\n"
   ]
  },
  {
   "cell_type": "code",
   "execution_count": 36,
   "metadata": {
    "execution": {
     "iopub.execute_input": "2024-11-30T00:15:44.943939Z",
     "iopub.status.busy": "2024-11-30T00:15:44.943645Z",
     "iopub.status.idle": "2024-11-30T00:16:10.501616Z",
     "shell.execute_reply": "2024-11-30T00:16:10.500727Z",
     "shell.execute_reply.started": "2024-11-30T00:15:44.943910Z"
    },
    "trusted": true
   },
   "outputs": [
    {
     "name": "stderr",
     "output_type": "stream",
     "text": [
      "/tmp/ipykernel_30/2326915126.py:12: FutureWarning: `torch.cuda.amp.autocast(args...)` is deprecated. Please use `torch.amp.autocast('cuda', args...)` instead.\n",
      "  with autocast():\n"
     ]
    }
   ],
   "source": [
    "import numpy as np\n",
    "from torch.cuda.amp import autocast\n",
    "\n",
    "model.eval()\n",
    "reconstruction_errors = []\n",
    "\n",
    "with torch.no_grad():\n",
    "    for batch_idx, (batch_data,) in enumerate(data_loader):\n",
    "        batch_data = batch_data.to(device)\n",
    "        batch_data = batch_data.unsqueeze(1)  \n",
    "\n",
    "        with autocast():\n",
    "            output = model(batch_data)\n",
    "\n",
    "        error = torch.mean((batch_data - output) ** 2, dim=[1, 2]).cpu().numpy()\n",
    "        reconstruction_errors.extend(error)"
   ]
  },
  {
   "cell_type": "code",
   "execution_count": 37,
   "metadata": {
    "execution": {
     "iopub.execute_input": "2024-11-30T00:16:10.503119Z",
     "iopub.status.busy": "2024-11-30T00:16:10.502826Z",
     "iopub.status.idle": "2024-11-30T00:16:10.802012Z",
     "shell.execute_reply": "2024-11-30T00:16:10.801345Z",
     "shell.execute_reply.started": "2024-11-30T00:16:10.503090Z"
    },
    "trusted": true
   },
   "outputs": [],
   "source": [
    "threshold = np.percentile(reconstruction_errors, 95)\n",
    "\n",
    "anomalies = np.array(reconstruction_errors) > threshold"
   ]
  },
  {
   "cell_type": "code",
   "execution_count": 38,
   "metadata": {
    "execution": {
     "iopub.execute_input": "2024-11-30T00:16:10.804052Z",
     "iopub.status.busy": "2024-11-30T00:16:10.803787Z",
     "iopub.status.idle": "2024-11-30T00:16:10.810873Z",
     "shell.execute_reply": "2024-11-30T00:16:10.810000Z",
     "shell.execute_reply.started": "2024-11-30T00:16:10.804027Z"
    },
    "trusted": true
   },
   "outputs": [
    {
     "data": {
      "text/plain": [
       "129581"
      ]
     },
     "execution_count": 38,
     "metadata": {},
     "output_type": "execute_result"
    }
   ],
   "source": [
    "total_anomalies = (anomalies==True).sum()\n",
    "total_anomalies"
   ]
  },
  {
   "cell_type": "code",
   "execution_count": 39,
   "metadata": {
    "execution": {
     "iopub.execute_input": "2024-11-30T00:16:10.812401Z",
     "iopub.status.busy": "2024-11-30T00:16:10.811903Z",
     "iopub.status.idle": "2024-11-30T00:16:10.821408Z",
     "shell.execute_reply": "2024-11-30T00:16:10.820622Z",
     "shell.execute_reply.started": "2024-11-30T00:16:10.812373Z"
    },
    "trusted": true
   },
   "outputs": [
    {
     "data": {
      "text/plain": [
       "2462419"
      ]
     },
     "execution_count": 39,
     "metadata": {},
     "output_type": "execute_result"
    }
   ],
   "source": [
    "(anomalies==False).sum()"
   ]
  },
  {
   "cell_type": "code",
   "execution_count": 40,
   "metadata": {
    "execution": {
     "iopub.execute_input": "2024-11-30T00:16:10.822584Z",
     "iopub.status.busy": "2024-11-30T00:16:10.822328Z",
     "iopub.status.idle": "2024-11-30T00:16:10.827935Z",
     "shell.execute_reply": "2024-11-30T00:16:10.826944Z",
     "shell.execute_reply.started": "2024-11-30T00:16:10.822561Z"
    },
    "trusted": true
   },
   "outputs": [],
   "source": [
    "df[\"Anomaly\"] = anomalies"
   ]
  },
  {
   "cell_type": "code",
   "execution_count": 41,
   "metadata": {
    "execution": {
     "iopub.execute_input": "2024-11-30T00:16:10.829361Z",
     "iopub.status.busy": "2024-11-30T00:16:10.829059Z",
     "iopub.status.idle": "2024-11-30T00:16:23.797843Z",
     "shell.execute_reply": "2024-11-30T00:16:23.797098Z",
     "shell.execute_reply.started": "2024-11-30T00:16:10.829314Z"
    },
    "trusted": true
   },
   "outputs": [],
   "source": [
    "df.to_csv(\"/kaggle/working/house_a_detected_anomalies.csv\",index=False)"
   ]
  },
  {
   "cell_type": "code",
   "execution_count": 42,
   "metadata": {
    "execution": {
     "iopub.execute_input": "2024-11-30T00:16:23.799557Z",
     "iopub.status.busy": "2024-11-30T00:16:23.799174Z",
     "iopub.status.idle": "2024-11-30T00:16:23.804951Z",
     "shell.execute_reply": "2024-11-30T00:16:23.803954Z",
     "shell.execute_reply.started": "2024-11-30T00:16:23.799522Z"
    },
    "trusted": true
   },
   "outputs": [
    {
     "data": {
      "text/plain": [
       "2592000"
      ]
     },
     "execution_count": 42,
     "metadata": {},
     "output_type": "execute_result"
    }
   ],
   "source": [
    "len(df)"
   ]
  },
  {
   "cell_type": "code",
   "execution_count": 43,
   "metadata": {
    "execution": {
     "iopub.execute_input": "2024-11-30T00:16:23.806255Z",
     "iopub.status.busy": "2024-11-30T00:16:23.805983Z",
     "iopub.status.idle": "2024-11-30T00:16:23.813944Z",
     "shell.execute_reply": "2024-11-30T00:16:23.813009Z",
     "shell.execute_reply.started": "2024-11-30T00:16:23.806216Z"
    },
    "trusted": true
   },
   "outputs": [
    {
     "name": "stdout",
     "output_type": "stream",
     "text": [
      "Percentage Anomalies = 4.999266975308642%\n"
     ]
    }
   ],
   "source": [
    "print(f\"Percentage Anomalies = {(total_anomalies/len(df))*100}%\")"
   ]
  },
  {
   "cell_type": "code",
   "execution_count": 44,
   "metadata": {
    "execution": {
     "iopub.execute_input": "2024-11-30T00:16:23.816499Z",
     "iopub.status.busy": "2024-11-30T00:16:23.816168Z",
     "iopub.status.idle": "2024-11-30T00:16:23.942712Z",
     "shell.execute_reply": "2024-11-30T00:16:23.942032Z",
     "shell.execute_reply.started": "2024-11-30T00:16:23.816474Z"
    },
    "trusted": true
   },
   "outputs": [],
   "source": [
    "torch.save(model.state_dict(), \"/kaggle/working/lstm_autoencoder_ha.pth\")\n",
    "np.save(\"/kaggle/working/reconstruction_errors_ha.npy\", reconstruction_errors)"
   ]
  },
  {
   "cell_type": "markdown",
   "metadata": {},
   "source": [
    "<h1>Testing it on custom Data</h1>\n"
   ]
  },
  {
   "cell_type": "code",
   "execution_count": 45,
   "metadata": {
    "execution": {
     "iopub.execute_input": "2024-11-30T00:16:23.943900Z",
     "iopub.status.busy": "2024-11-30T00:16:23.943645Z",
     "iopub.status.idle": "2024-11-30T00:16:23.960545Z",
     "shell.execute_reply": "2024-11-30T00:16:23.959650Z",
     "shell.execute_reply.started": "2024-11-30T00:16:23.943875Z"
    },
    "trusted": true
   },
   "outputs": [],
   "source": [
    "import torch\n",
    "# Remove \"module.\" prefix if present\n",
    "from collections import OrderedDict\n",
    "\n",
    "\n",
    "class LSTM_Autoencoder(nn.Module):\n",
    "    def __init__(self, input_size, hidden_size, seq_len):\n",
    "        super(LSTM_Autoencoder, self).__init__()\n",
    "        self.encoder = nn.LSTM(input_size, hidden_size, batch_first=True)\n",
    "        self.decoder = nn.LSTM(hidden_size, hidden_size, batch_first=True)\n",
    "        self.output_layer = nn.Linear(hidden_size, input_size)\n",
    "        self.hidden_size = hidden_size\n",
    "        self.seq_len = seq_len\n",
    "\n",
    "    def forward(self, x):\n",
    "        # Initialize hidden and cell states for encoder\n",
    "        h1 = torch.zeros(1, x.size(0), self.hidden_size).to(x.device)\n",
    "        c1 = torch.zeros(1, x.size(0), self.hidden_size).to(x.device)\n",
    "        \n",
    "        # Pass through encoder\n",
    "        encoded, (hn, cn) = self.encoder(x, (h1, c1))\n",
    "        \n",
    "        # Pass through decoder\n",
    "        decoded, _ = self.decoder(encoded, (hn, cn))\n",
    "        \n",
    "        # Map decoded output back to input size\n",
    "        decoded = self.output_layer(decoded)\n",
    "        \n",
    "        return decoded\n",
    "\n",
    "# Initialize the model (ensure the parameters match the saved model)\n",
    "input_size = 25  # Adjust based on your data\n",
    "hidden_size = 256  # Adjust based on your saved model\n",
    "seq_len = 1      # Adjust based on your sequence length\n",
    "device = torch.device(\"cuda\" if torch.cuda.is_available() else \"cpu\")\n",
    "\n",
    "model = LSTM_Autoencoder(input_size=input_size, hidden_size=hidden_size, seq_len=seq_len).to(device)"
   ]
  },
  {
   "cell_type": "code",
   "execution_count": 46,
   "metadata": {
    "execution": {
     "iopub.execute_input": "2024-11-30T00:16:23.961803Z",
     "iopub.status.busy": "2024-11-30T00:16:23.961564Z",
     "iopub.status.idle": "2024-11-30T00:16:23.973219Z",
     "shell.execute_reply": "2024-11-30T00:16:23.972306Z",
     "shell.execute_reply.started": "2024-11-30T00:16:23.961780Z"
    },
    "trusted": true
   },
   "outputs": [
    {
     "name": "stderr",
     "output_type": "stream",
     "text": [
      "/tmp/ipykernel_30/4068981368.py:2: FutureWarning: You are using `torch.load` with `weights_only=False` (the current default value), which uses the default pickle module implicitly. It is possible to construct malicious pickle data which will execute arbitrary code during unpickling (See https://github.com/pytorch/pytorch/blob/main/SECURITY.md#untrusted-models for more details). In a future release, the default value for `weights_only` will be flipped to `True`. This limits the functions that could be executed during unpickling. Arbitrary objects will no longer be allowed to be loaded via this mode unless they are explicitly allowlisted by the user via `torch.serialization.add_safe_globals`. We recommend you start setting `weights_only=True` for any use case where you don't have full control of the loaded file. Please open an issue on GitHub for any issues related to this experimental feature.\n",
      "  state_dict = torch.load(\"/kaggle/working/lstm_autoencoder_ha.pth\", map_location=device)\n"
     ]
    },
    {
     "data": {
      "text/plain": [
       "LSTM_Autoencoder(\n",
       "  (encoder): LSTM(25, 256, batch_first=True)\n",
       "  (decoder): LSTM(256, 256, batch_first=True)\n",
       "  (output_layer): Linear(in_features=256, out_features=25, bias=True)\n",
       ")"
      ]
     },
     "execution_count": 46,
     "metadata": {},
     "output_type": "execute_result"
    }
   ],
   "source": [
    "# Load the state_dict\n",
    "state_dict = torch.load(\"/kaggle/working/lstm_autoencoder_ha.pth\", map_location=device)\n",
    "\n",
    "# Remove the \"module.\" prefix from the keys\n",
    "new_state_dict = {}\n",
    "for key, value in state_dict.items():\n",
    "    new_key = key.replace(\"module.\", \"\")  # Remove the \"module.\" prefix\n",
    "    new_state_dict[new_key] = value\n",
    "\n",
    "# Load the updated state_dict into the model\n",
    "model.load_state_dict(new_state_dict)\n",
    "\n",
    "# Set the model to evaluation mode\n",
    "model.eval()\n"
   ]
  },
  {
   "cell_type": "code",
   "execution_count": 47,
   "metadata": {
    "execution": {
     "iopub.execute_input": "2024-11-30T00:16:23.975100Z",
     "iopub.status.busy": "2024-11-30T00:16:23.974412Z",
     "iopub.status.idle": "2024-11-30T00:16:24.053831Z",
     "shell.execute_reply": "2024-11-30T00:16:24.053056Z",
     "shell.execute_reply.started": "2024-11-30T00:16:23.975055Z"
    },
    "trusted": true
   },
   "outputs": [
    {
     "name": "stdout",
     "output_type": "stream",
     "text": [
      "Total anomalies: 129581\n"
     ]
    }
   ],
   "source": [
    "reconstruction_errors = np.load(\"/kaggle/working/reconstruction_errors_ha.npy\")\n",
    "\n",
    "threshold = np.percentile(reconstruction_errors, 95)\n",
    "anomalies = reconstruction_errors > threshold\n",
    "\n",
    "total_anomalies = anomalies.sum()\n",
    "print(f\"Total anomalies: {total_anomalies}\")"
   ]
  },
  {
   "cell_type": "code",
   "execution_count": 48,
   "metadata": {
    "execution": {
     "iopub.execute_input": "2024-11-30T00:16:24.054906Z",
     "iopub.status.busy": "2024-11-30T00:16:24.054691Z",
     "iopub.status.idle": "2024-11-30T00:16:24.060299Z",
     "shell.execute_reply": "2024-11-30T00:16:24.059388Z",
     "shell.execute_reply.started": "2024-11-30T00:16:24.054885Z"
    },
    "trusted": true
   },
   "outputs": [
    {
     "data": {
      "text/plain": [
       "0.00016964174574241042"
      ]
     },
     "execution_count": 48,
     "metadata": {},
     "output_type": "execute_result"
    }
   ],
   "source": [
    "threshold"
   ]
  },
  {
   "cell_type": "code",
   "execution_count": 49,
   "metadata": {
    "execution": {
     "iopub.execute_input": "2024-11-30T00:16:24.061448Z",
     "iopub.status.busy": "2024-11-30T00:16:24.061166Z",
     "iopub.status.idle": "2024-11-30T00:16:24.075892Z",
     "shell.execute_reply": "2024-11-30T00:16:24.074990Z",
     "shell.execute_reply.started": "2024-11-30T00:16:24.061425Z"
    },
    "trusted": true
   },
   "outputs": [
    {
     "data": {
      "text/html": [
       "<style>#sk-container-id-1 {color: black;background-color: white;}#sk-container-id-1 pre{padding: 0;}#sk-container-id-1 div.sk-toggleable {background-color: white;}#sk-container-id-1 label.sk-toggleable__label {cursor: pointer;display: block;width: 100%;margin-bottom: 0;padding: 0.3em;box-sizing: border-box;text-align: center;}#sk-container-id-1 label.sk-toggleable__label-arrow:before {content: \"▸\";float: left;margin-right: 0.25em;color: #696969;}#sk-container-id-1 label.sk-toggleable__label-arrow:hover:before {color: black;}#sk-container-id-1 div.sk-estimator:hover label.sk-toggleable__label-arrow:before {color: black;}#sk-container-id-1 div.sk-toggleable__content {max-height: 0;max-width: 0;overflow: hidden;text-align: left;background-color: #f0f8ff;}#sk-container-id-1 div.sk-toggleable__content pre {margin: 0.2em;color: black;border-radius: 0.25em;background-color: #f0f8ff;}#sk-container-id-1 input.sk-toggleable__control:checked~div.sk-toggleable__content {max-height: 200px;max-width: 100%;overflow: auto;}#sk-container-id-1 input.sk-toggleable__control:checked~label.sk-toggleable__label-arrow:before {content: \"▾\";}#sk-container-id-1 div.sk-estimator input.sk-toggleable__control:checked~label.sk-toggleable__label {background-color: #d4ebff;}#sk-container-id-1 div.sk-label input.sk-toggleable__control:checked~label.sk-toggleable__label {background-color: #d4ebff;}#sk-container-id-1 input.sk-hidden--visually {border: 0;clip: rect(1px 1px 1px 1px);clip: rect(1px, 1px, 1px, 1px);height: 1px;margin: -1px;overflow: hidden;padding: 0;position: absolute;width: 1px;}#sk-container-id-1 div.sk-estimator {font-family: monospace;background-color: #f0f8ff;border: 1px dotted black;border-radius: 0.25em;box-sizing: border-box;margin-bottom: 0.5em;}#sk-container-id-1 div.sk-estimator:hover {background-color: #d4ebff;}#sk-container-id-1 div.sk-parallel-item::after {content: \"\";width: 100%;border-bottom: 1px solid gray;flex-grow: 1;}#sk-container-id-1 div.sk-label:hover label.sk-toggleable__label {background-color: #d4ebff;}#sk-container-id-1 div.sk-serial::before {content: \"\";position: absolute;border-left: 1px solid gray;box-sizing: border-box;top: 0;bottom: 0;left: 50%;z-index: 0;}#sk-container-id-1 div.sk-serial {display: flex;flex-direction: column;align-items: center;background-color: white;padding-right: 0.2em;padding-left: 0.2em;position: relative;}#sk-container-id-1 div.sk-item {position: relative;z-index: 1;}#sk-container-id-1 div.sk-parallel {display: flex;align-items: stretch;justify-content: center;background-color: white;position: relative;}#sk-container-id-1 div.sk-item::before, #sk-container-id-1 div.sk-parallel-item::before {content: \"\";position: absolute;border-left: 1px solid gray;box-sizing: border-box;top: 0;bottom: 0;left: 50%;z-index: -1;}#sk-container-id-1 div.sk-parallel-item {display: flex;flex-direction: column;z-index: 1;position: relative;background-color: white;}#sk-container-id-1 div.sk-parallel-item:first-child::after {align-self: flex-end;width: 50%;}#sk-container-id-1 div.sk-parallel-item:last-child::after {align-self: flex-start;width: 50%;}#sk-container-id-1 div.sk-parallel-item:only-child::after {width: 0;}#sk-container-id-1 div.sk-dashed-wrapped {border: 1px dashed gray;margin: 0 0.4em 0.5em 0.4em;box-sizing: border-box;padding-bottom: 0.4em;background-color: white;}#sk-container-id-1 div.sk-label label {font-family: monospace;font-weight: bold;display: inline-block;line-height: 1.2em;}#sk-container-id-1 div.sk-label-container {text-align: center;}#sk-container-id-1 div.sk-container {/* jupyter's `normalize.less` sets `[hidden] { display: none; }` but bootstrap.min.css set `[hidden] { display: none !important; }` so we also need the `!important` here to be able to override the default hidden behavior on the sphinx rendered scikit-learn.org. See: https://github.com/scikit-learn/scikit-learn/issues/21755 */display: inline-block !important;position: relative;}#sk-container-id-1 div.sk-text-repr-fallback {display: none;}</style><div id=\"sk-container-id-1\" class=\"sk-top-container\"><div class=\"sk-text-repr-fallback\"><pre>StandardScaler()</pre><b>In a Jupyter environment, please rerun this cell to show the HTML representation or trust the notebook. <br />On GitHub, the HTML representation is unable to render, please try loading this page with nbviewer.org.</b></div><div class=\"sk-container\" hidden><div class=\"sk-item\"><div class=\"sk-estimator sk-toggleable\"><input class=\"sk-toggleable__control sk-hidden--visually\" id=\"sk-estimator-id-1\" type=\"checkbox\" checked><label for=\"sk-estimator-id-1\" class=\"sk-toggleable__label sk-toggleable__label-arrow\">StandardScaler</label><div class=\"sk-toggleable__content\"><pre>StandardScaler()</pre></div></div></div></div></div>"
      ],
      "text/plain": [
       "StandardScaler()"
      ]
     },
     "execution_count": 49,
     "metadata": {},
     "output_type": "execute_result"
    }
   ],
   "source": [
    "from joblib import load\n",
    "\n",
    "# Load the scaler from the file\n",
    "sc = load('/kaggle/working/standardscaler_ha.joblib')\n",
    "sc"
   ]
  },
  {
   "cell_type": "code",
   "execution_count": 51,
   "metadata": {
    "execution": {
     "iopub.execute_input": "2024-11-30T00:20:43.985312Z",
     "iopub.status.busy": "2024-11-30T00:20:43.984898Z",
     "iopub.status.idle": "2024-11-30T00:20:44.018269Z",
     "shell.execute_reply": "2024-11-30T00:20:44.017361Z",
     "shell.execute_reply.started": "2024-11-30T00:20:43.985279Z"
    },
    "trusted": true
   },
   "outputs": [
    {
     "name": "stdout",
     "output_type": "stream",
     "text": [
      "Reconstruction Error: 100.18390655517578, Anomaly: True\n"
     ]
    }
   ],
   "source": [
    "import numpy as np\n",
    "import torch\n",
    "\n",
    "# Replace with actual new data\n",
    "new_data = np.array([[1,1,1,1,1,1,1,1,1,1,1,1,1,1,1,1,1,1,1,1,1,1,1,1,1]])\n",
    "\n",
    "# Transform new data using the StandardScaler\n",
    "new_data = sc.transform(new_data)\n",
    "\n",
    "# Convert to tensor and reshape for LSTM\n",
    "new_data_tensor = torch.tensor(new_data, dtype=torch.float32).unsqueeze(0).to(device)  \n",
    "# Shape: (batch_size=1, sequence_length=1, input_size=22)\n",
    "\n",
    "# Forward pass through the model\n",
    "model.eval()\n",
    "with torch.no_grad():\n",
    "    new_data_reconstructed = model(new_data_tensor)\n",
    "    reconstruction_error = torch.mean((new_data_tensor - new_data_reconstructed) ** 2).item()\n",
    "\n",
    "# Compare the error with the threshold\n",
    "is_anomaly = reconstruction_error > threshold\n",
    "print(f\"Reconstruction Error: {reconstruction_error}, Anomaly: {is_anomaly}\")\n"
   ]
  },
  {
   "cell_type": "code",
   "execution_count": null,
   "metadata": {
    "trusted": true
   },
   "outputs": [],
   "source": []
  }
 ],
 "metadata": {
  "kaggle": {
   "accelerator": "nvidiaTeslaT4",
   "dataSources": [
    {
     "datasetId": 6063935,
     "sourceId": 9877061,
     "sourceType": "datasetVersion"
    }
   ],
   "dockerImageVersionId": 30787,
   "isGpuEnabled": true,
   "isInternetEnabled": true,
   "language": "python",
   "sourceType": "notebook"
  },
  "kernelspec": {
   "display_name": "Python 3",
   "language": "python",
   "name": "python3"
  },
  "language_info": {
   "codemirror_mode": {
    "name": "ipython",
    "version": 3
   },
   "file_extension": ".py",
   "mimetype": "text/x-python",
   "name": "python",
   "nbconvert_exporter": "python",
   "pygments_lexer": "ipython3",
   "version": "3.10.14"
  }
 },
 "nbformat": 4,
 "nbformat_minor": 4
}
