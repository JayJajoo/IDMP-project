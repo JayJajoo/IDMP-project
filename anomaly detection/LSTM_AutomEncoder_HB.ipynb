{
 "cells": [
  {
   "cell_type": "code",
   "execution_count": 3,
   "metadata": {
    "_cell_guid": "b1076dfc-b9ad-4769-8c92-a6c4dae69d19",
    "_uuid": "8f2839f25d086af736a60e9eeb907d3b93b6e0e5",
    "execution": {
     "iopub.execute_input": "2024-12-01T05:13:53.429383Z",
     "iopub.status.busy": "2024-12-01T05:13:53.428415Z",
     "iopub.status.idle": "2024-12-01T05:13:53.434203Z",
     "shell.execute_reply": "2024-12-01T05:13:53.433180Z",
     "shell.execute_reply.started": "2024-12-01T05:13:53.429332Z"
    },
    "trusted": true
   },
   "outputs": [],
   "source": [
    "import torch\n",
    "import torch.nn as nn\n",
    "import torch.optim as optim\n",
    "from torch.utils.data import DataLoader, Dataset\n",
    "import numpy as np\n",
    "import pandas as pd\n",
    "from sklearn.preprocessing import StandardScaler\n",
    "from torch.cuda.amp import autocast, GradScaler"
   ]
  },
  {
   "cell_type": "code",
   "execution_count": 4,
   "metadata": {
    "execution": {
     "iopub.execute_input": "2024-12-01T05:13:53.440860Z",
     "iopub.status.busy": "2024-12-01T05:13:53.440407Z",
     "iopub.status.idle": "2024-12-01T05:13:57.144516Z",
     "shell.execute_reply": "2024-12-01T05:13:57.143760Z",
     "shell.execute_reply.started": "2024-12-01T05:13:53.440814Z"
    },
    "trusted": true
   },
   "outputs": [],
   "source": [
    "df = pd.read_csv(\"/kaggle/input/house-b-csv/house_b_combined_dataset.csv\")"
   ]
  },
  {
   "cell_type": "code",
   "execution_count": 6,
   "metadata": {
    "execution": {
     "iopub.execute_input": "2024-12-01T05:13:57.862566Z",
     "iopub.status.busy": "2024-12-01T05:13:57.862243Z",
     "iopub.status.idle": "2024-12-01T05:13:58.042304Z",
     "shell.execute_reply": "2024-12-01T05:13:58.041598Z",
     "shell.execute_reply.started": "2024-12-01T05:13:57.862515Z"
    },
    "trusted": true
   },
   "outputs": [],
   "source": [
    "df = df.drop(columns=['Unnamed: 0'])"
   ]
  },
  {
   "cell_type": "code",
   "execution_count": 7,
   "metadata": {
    "execution": {
     "iopub.execute_input": "2024-12-01T05:13:58.045260Z",
     "iopub.status.busy": "2024-12-01T05:13:58.044595Z",
     "iopub.status.idle": "2024-12-01T05:13:59.006688Z",
     "shell.execute_reply": "2024-12-01T05:13:59.005764Z",
     "shell.execute_reply.started": "2024-12-01T05:13:58.045217Z"
    },
    "trusted": true
   },
   "outputs": [],
   "source": [
    "sc = StandardScaler()\n",
    "data = df.values\n",
    "data = sc.fit_transform(data)  "
   ]
  },
  {
   "cell_type": "code",
   "execution_count": 8,
   "metadata": {
    "execution": {
     "iopub.execute_input": "2024-12-01T05:13:59.008081Z",
     "iopub.status.busy": "2024-12-01T05:13:59.007802Z",
     "iopub.status.idle": "2024-12-01T05:13:59.015093Z",
     "shell.execute_reply": "2024-12-01T05:13:59.014178Z",
     "shell.execute_reply.started": "2024-12-01T05:13:59.008055Z"
    },
    "trusted": true
   },
   "outputs": [
    {
     "data": {
      "text/plain": [
       "['/kaggle/working/standardscaler_hb.joblib']"
      ]
     },
     "execution_count": 8,
     "metadata": {},
     "output_type": "execute_result"
    }
   ],
   "source": [
    "from joblib import dump\n",
    "dump(sc, \"/kaggle/working/standardscaler_hb.joblib\")"
   ]
  },
  {
   "cell_type": "code",
   "execution_count": 9,
   "metadata": {
    "execution": {
     "iopub.execute_input": "2024-12-01T05:13:59.016490Z",
     "iopub.status.busy": "2024-12-01T05:13:59.016160Z",
     "iopub.status.idle": "2024-12-01T05:13:59.173214Z",
     "shell.execute_reply": "2024-12-01T05:13:59.172129Z",
     "shell.execute_reply.started": "2024-12-01T05:13:59.016461Z"
    },
    "trusted": true
   },
   "outputs": [],
   "source": [
    "data_tensor = torch.tensor(data, dtype=torch.float32)"
   ]
  },
  {
   "cell_type": "code",
   "execution_count": 10,
   "metadata": {
    "execution": {
     "iopub.execute_input": "2024-12-01T05:13:59.174727Z",
     "iopub.status.busy": "2024-12-01T05:13:59.174361Z",
     "iopub.status.idle": "2024-12-01T05:13:59.179068Z",
     "shell.execute_reply": "2024-12-01T05:13:59.178126Z",
     "shell.execute_reply.started": "2024-12-01T05:13:59.174691Z"
    },
    "trusted": true
   },
   "outputs": [],
   "source": [
    "seq_len = 600  \n",
    "input_size = 25 \n",
    "hidden_size = 256 \n",
    "batch_size = 1024 "
   ]
  },
  {
   "cell_type": "code",
   "execution_count": 11,
   "metadata": {
    "execution": {
     "iopub.execute_input": "2024-12-01T05:13:59.180437Z",
     "iopub.status.busy": "2024-12-01T05:13:59.180200Z",
     "iopub.status.idle": "2024-12-01T05:13:59.191893Z",
     "shell.execute_reply": "2024-12-01T05:13:59.190928Z",
     "shell.execute_reply.started": "2024-12-01T05:13:59.180413Z"
    },
    "trusted": true
   },
   "outputs": [],
   "source": [
    "class TimeSeriesDataset(Dataset):\n",
    "    def __init__(self, data, seq_len):\n",
    "        self.data = data\n",
    "        self.seq_len = seq_len\n",
    "    \n",
    "    def __len__(self):\n",
    "        return len(self.data) // self.seq_len  # Number of sequences\n",
    "    \n",
    "    def __getitem__(self, idx):\n",
    "        start_idx = idx * self.seq_len\n",
    "        end_idx = start_idx + self.seq_len\n",
    "        return self.data[start_idx:end_idx]  # Return a sequence"
   ]
  },
  {
   "cell_type": "code",
   "execution_count": 12,
   "metadata": {
    "execution": {
     "iopub.execute_input": "2024-12-01T05:13:59.193957Z",
     "iopub.status.busy": "2024-12-01T05:13:59.193092Z",
     "iopub.status.idle": "2024-12-01T05:13:59.205166Z",
     "shell.execute_reply": "2024-12-01T05:13:59.204199Z",
     "shell.execute_reply.started": "2024-12-01T05:13:59.193921Z"
    },
    "trusted": true
   },
   "outputs": [],
   "source": [
    "dataset = TimeSeriesDataset(data_tensor, seq_len)\n",
    "data_loader = DataLoader(dataset, batch_size=batch_size, shuffle=True)"
   ]
  },
  {
   "cell_type": "code",
   "execution_count": 13,
   "metadata": {
    "execution": {
     "iopub.execute_input": "2024-12-01T05:13:59.209345Z",
     "iopub.status.busy": "2024-12-01T05:13:59.208409Z",
     "iopub.status.idle": "2024-12-01T05:13:59.217365Z",
     "shell.execute_reply": "2024-12-01T05:13:59.216584Z",
     "shell.execute_reply.started": "2024-12-01T05:13:59.209297Z"
    },
    "trusted": true
   },
   "outputs": [],
   "source": [
    "class LSTM_Autoencoder(nn.Module):\n",
    "    def __init__(self, input_size, hidden_size, seq_len, num_layers=2):\n",
    "        super(LSTM_Autoencoder, self).__init__()\n",
    "        self.encoder = nn.LSTM(input_size, hidden_size, batch_first=True, num_layers=num_layers)\n",
    "        self.decoder = nn.LSTM(hidden_size, hidden_size, batch_first=True, num_layers=num_layers)\n",
    "        self.output_layer = nn.Linear(hidden_size, input_size)\n",
    "        self.hidden_size = hidden_size\n",
    "        self.seq_len = seq_len\n",
    "\n",
    "    def forward(self, x):\n",
    "        h0 = torch.zeros(self.encoder.num_layers, x.size(0), self.hidden_size).to(x.device)\n",
    "        c0 = torch.zeros(self.encoder.num_layers, x.size(0), self.hidden_size).to(x.device)\n",
    "        \n",
    "        # Pass through encoder\n",
    "        encoded, (hn, cn) = self.encoder(x, (h0, c0))\n",
    "        \n",
    "        # Pass through decoder\n",
    "        decoded, _ = self.decoder(encoded, (hn, cn))\n",
    "        \n",
    "        # Map decoded output back to input size\n",
    "        decoded = self.output_layer(decoded)\n",
    "        \n",
    "        return decoded"
   ]
  },
  {
   "cell_type": "code",
   "execution_count": 14,
   "metadata": {
    "execution": {
     "iopub.execute_input": "2024-12-01T05:13:59.218768Z",
     "iopub.status.busy": "2024-12-01T05:13:59.218454Z",
     "iopub.status.idle": "2024-12-01T05:13:59.597507Z",
     "shell.execute_reply": "2024-12-01T05:13:59.596565Z",
     "shell.execute_reply.started": "2024-12-01T05:13:59.218729Z"
    },
    "trusted": true
   },
   "outputs": [],
   "source": [
    "device = torch.device('cuda' if torch.cuda.is_available() else 'cpu')\n",
    "model = LSTM_Autoencoder(input_size=input_size, hidden_size=hidden_size, seq_len=seq_len,num_layers=2).to(device)"
   ]
  },
  {
   "cell_type": "code",
   "execution_count": 15,
   "metadata": {
    "execution": {
     "iopub.execute_input": "2024-12-01T05:13:59.599151Z",
     "iopub.status.busy": "2024-12-01T05:13:59.598777Z",
     "iopub.status.idle": "2024-12-01T05:13:59.608479Z",
     "shell.execute_reply": "2024-12-01T05:13:59.607480Z",
     "shell.execute_reply.started": "2024-12-01T05:13:59.599114Z"
    },
    "trusted": true
   },
   "outputs": [],
   "source": [
    "model = nn.DataParallel(model)\n",
    "model = model.to(device)"
   ]
  },
  {
   "cell_type": "code",
   "execution_count": 16,
   "metadata": {
    "execution": {
     "iopub.execute_input": "2024-12-01T05:13:59.610051Z",
     "iopub.status.busy": "2024-12-01T05:13:59.609698Z",
     "iopub.status.idle": "2024-12-01T05:14:00.356748Z",
     "shell.execute_reply": "2024-12-01T05:14:00.355692Z",
     "shell.execute_reply.started": "2024-12-01T05:13:59.610014Z"
    },
    "trusted": true
   },
   "outputs": [
    {
     "name": "stderr",
     "output_type": "stream",
     "text": [
      "/tmp/ipykernel_82/1176063683.py:3: FutureWarning: `torch.cuda.amp.GradScaler(args...)` is deprecated. Please use `torch.amp.GradScaler('cuda', args...)` instead.\n",
      "  scaler = GradScaler()\n"
     ]
    }
   ],
   "source": [
    "criterion = nn.MSELoss()\n",
    "optimizer = optim.Adam(model.parameters(), lr=0.001)\n",
    "scaler = GradScaler()"
   ]
  },
  {
   "cell_type": "code",
   "execution_count": 17,
   "metadata": {
    "execution": {
     "iopub.execute_input": "2024-12-01T05:14:00.358601Z",
     "iopub.status.busy": "2024-12-01T05:14:00.358025Z",
     "iopub.status.idle": "2024-12-01T05:32:55.227389Z",
     "shell.execute_reply": "2024-12-01T05:32:55.225890Z",
     "shell.execute_reply.started": "2024-12-01T05:14:00.358536Z"
    },
    "trusted": true
   },
   "outputs": [
    {
     "name": "stderr",
     "output_type": "stream",
     "text": [
      "/tmp/ipykernel_82/3113628587.py:7: FutureWarning: `torch.cuda.amp.autocast(args...)` is deprecated. Please use `torch.amp.autocast('cuda', args...)` instead.\n",
      "  with autocast():\n",
      "/opt/conda/lib/python3.10/site-packages/torch/nn/parallel/parallel_apply.py:79: FutureWarning: `torch.cuda.amp.autocast(args...)` is deprecated. Please use `torch.amp.autocast('cuda', args...)` instead.\n",
      "  with torch.cuda.device(device), torch.cuda.stream(stream), autocast(enabled=autocast_enabled):\n"
     ]
    },
    {
     "name": "stdout",
     "output_type": "stream",
     "text": [
      "Epoch [10/500], Loss: 0.4201\n",
      "Epoch [20/500], Loss: 0.2520\n",
      "Epoch [30/500], Loss: 0.1783\n",
      "Epoch [40/500], Loss: 0.1214\n",
      "Epoch [50/500], Loss: 0.0798\n",
      "Epoch [60/500], Loss: 0.0548\n",
      "Epoch [70/500], Loss: 0.0374\n",
      "Epoch [80/500], Loss: 0.0265\n",
      "Epoch [90/500], Loss: 0.0215\n",
      "Epoch [100/500], Loss: 0.0151\n",
      "Epoch [110/500], Loss: 0.0124\n",
      "Epoch [120/500], Loss: 0.0095\n",
      "Epoch [130/500], Loss: 0.0090\n",
      "Epoch [140/500], Loss: 0.0061\n",
      "Epoch [150/500], Loss: 0.0056\n",
      "Epoch [160/500], Loss: 0.0054\n",
      "Epoch [170/500], Loss: 0.0044\n",
      "Epoch [180/500], Loss: 0.0035\n",
      "Epoch [190/500], Loss: 0.0048\n",
      "Epoch [200/500], Loss: 0.0032\n",
      "Epoch [210/500], Loss: 0.0029\n",
      "Epoch [220/500], Loss: 0.0033\n",
      "Epoch [230/500], Loss: 0.0027\n",
      "Epoch [240/500], Loss: 0.0027\n",
      "Epoch [250/500], Loss: 0.0021\n",
      "Epoch [260/500], Loss: 0.0024\n",
      "Epoch [270/500], Loss: 0.0021\n",
      "Epoch [280/500], Loss: 0.0023\n",
      "Epoch [290/500], Loss: 0.0018\n",
      "Epoch [300/500], Loss: 0.0015\n",
      "Epoch [310/500], Loss: 0.0014\n",
      "Epoch [320/500], Loss: 0.0013\n",
      "Epoch [330/500], Loss: 0.0024\n",
      "Epoch [340/500], Loss: 0.0016\n",
      "Epoch [350/500], Loss: 0.0016\n",
      "Epoch [360/500], Loss: 0.0013\n",
      "Epoch [370/500], Loss: 0.0013\n",
      "Epoch [380/500], Loss: 0.0011\n",
      "Epoch [390/500], Loss: 0.0010\n",
      "Epoch [400/500], Loss: 0.0013\n",
      "Epoch [410/500], Loss: 0.0009\n",
      "Epoch [420/500], Loss: 0.0009\n",
      "Epoch [430/500], Loss: 0.0008\n",
      "Epoch [440/500], Loss: 0.0008\n",
      "Epoch [450/500], Loss: 0.0008\n",
      "Epoch [460/500], Loss: 0.0009\n",
      "Epoch [470/500], Loss: 0.0009\n",
      "Epoch [480/500], Loss: 0.0008\n",
      "Epoch [490/500], Loss: 0.0007\n",
      "Epoch [500/500], Loss: 0.0008\n"
     ]
    }
   ],
   "source": [
    "num_epochs = 500  \n",
    "for epoch in range(num_epochs):\n",
    "    model.train()\n",
    "    running_loss = 0.0\n",
    "    for batch_idx, batch_data in enumerate(data_loader):\n",
    "        batch_data = batch_data.to(device)\n",
    "        with autocast():\n",
    "            output = model(batch_data)\n",
    "            loss = criterion(output, batch_data)\n",
    "        scaler.scale(loss).backward()\n",
    "        scaler.step(optimizer)\n",
    "        scaler.update()  \n",
    "        optimizer.zero_grad()\n",
    "        running_loss += loss.item()\n",
    "    avg_loss = running_loss / len(data_loader)\n",
    "    if (epoch + 1) % 10 == 0:\n",
    "        print(f'Epoch [{epoch+1}/{num_epochs}], Loss: {avg_loss:.4f}')"
   ]
  },
  {
   "cell_type": "code",
   "execution_count": 18,
   "metadata": {
    "execution": {
     "iopub.execute_input": "2024-12-01T05:32:55.229160Z",
     "iopub.status.busy": "2024-12-01T05:32:55.228754Z",
     "iopub.status.idle": "2024-12-01T05:32:57.816448Z",
     "shell.execute_reply": "2024-12-01T05:32:57.815651Z",
     "shell.execute_reply.started": "2024-12-01T05:32:55.229100Z"
    },
    "trusted": true
   },
   "outputs": [],
   "source": [
    "import torch.nn.functional as F\n",
    "import numpy as np\n",
    "\n",
    "reconstruction_errors_all = []\n",
    "with torch.no_grad():\n",
    "    for batch_idx, batch_data in enumerate(data_loader):\n",
    "        batch_data = batch_data.to(device)\n",
    "        reconstructed_data = model(batch_data)\n",
    "        mse_loss = F.mse_loss(reconstructed_data, batch_data, reduction='none')\n",
    "        mse_loss = mse_loss.view(mse_loss.size(0), -1)\n",
    "        batch_reconstruction_errors = mse_loss.sum(dim=1).cpu().numpy()\n",
    "        reconstruction_errors_all.extend(batch_reconstruction_errors)\n"
   ]
  },
  {
   "cell_type": "code",
   "execution_count": 19,
   "metadata": {
    "execution": {
     "iopub.execute_input": "2024-12-01T05:32:57.817644Z",
     "iopub.status.busy": "2024-12-01T05:32:57.817353Z",
     "iopub.status.idle": "2024-12-01T05:32:57.847436Z",
     "shell.execute_reply": "2024-12-01T05:32:57.846245Z",
     "shell.execute_reply.started": "2024-12-01T05:32:57.817613Z"
    },
    "trusted": true
   },
   "outputs": [
    {
     "name": "stdout",
     "output_type": "stream",
     "text": [
      "Number of anomalies detected: 129600\n"
     ]
    }
   ],
   "source": [
    "reconstruction_errors_all = np.array(reconstruction_errors_all)\n",
    "expected_length = len(df)\n",
    "if len(reconstruction_errors_all) > expected_length:\n",
    "    reconstruction_errors_all = reconstruction_errors_all[:expected_length]\n",
    "elif len(reconstruction_errors_all) < expected_length:\n",
    "    reconstruction_errors_all = np.tile(reconstruction_errors_all, (expected_length // len(reconstruction_errors_all)) + 1)[:expected_length]\n",
    "threshold = np.percentile(reconstruction_errors_all, 95)\n",
    "anomalies = reconstruction_errors_all > threshold\n",
    "print(f\"Number of anomalies detected: {np.sum(anomalies)}\")"
   ]
  },
  {
   "cell_type": "code",
   "execution_count": 20,
   "metadata": {
    "execution": {
     "iopub.execute_input": "2024-12-01T05:32:57.849864Z",
     "iopub.status.busy": "2024-12-01T05:32:57.849418Z",
     "iopub.status.idle": "2024-12-01T05:32:57.859047Z",
     "shell.execute_reply": "2024-12-01T05:32:57.857701Z",
     "shell.execute_reply.started": "2024-12-01T05:32:57.849815Z"
    },
    "trusted": true
   },
   "outputs": [
    {
     "name": "stdout",
     "output_type": "stream",
     "text": [
      "Anomaly Percentage: 5.00%\n"
     ]
    }
   ],
   "source": [
    "df['Anomaly'] = anomalies\n",
    "total_samples = len(df)\n",
    "anomaly_percentage = (np.sum(anomalies) / total_samples) * 100\n",
    "print(f\"Anomaly Percentage: {anomaly_percentage:.2f}%\")"
   ]
  },
  {
   "cell_type": "code",
   "execution_count": 21,
   "metadata": {
    "execution": {
     "iopub.execute_input": "2024-12-01T05:32:57.860934Z",
     "iopub.status.busy": "2024-12-01T05:32:57.860314Z",
     "iopub.status.idle": "2024-12-01T05:33:10.685200Z",
     "shell.execute_reply": "2024-12-01T05:33:10.684067Z",
     "shell.execute_reply.started": "2024-12-01T05:32:57.860896Z"
    },
    "trusted": true
   },
   "outputs": [],
   "source": [
    "df.to_csv(\"/kaggle/working/data_with_anomalies_hb.csv\", index=False)\n",
    "np.save(\"/kaggle/working/reconstruction_errors_hb.npy\", reconstruction_errors_all)\n",
    "torch.save(model.state_dict(), \"/kaggle/working/lstm_autoencoder_hb.pth\")"
   ]
  },
  {
   "cell_type": "markdown",
   "metadata": {},
   "source": [
    "<h2>Testing it on Random Data</h2>"
   ]
  },
  {
   "cell_type": "code",
   "execution_count": 22,
   "metadata": {
    "execution": {
     "iopub.execute_input": "2024-12-01T05:33:10.686967Z",
     "iopub.status.busy": "2024-12-01T05:33:10.686576Z",
     "iopub.status.idle": "2024-12-01T05:33:10.695574Z",
     "shell.execute_reply": "2024-12-01T05:33:10.694748Z",
     "shell.execute_reply.started": "2024-12-01T05:33:10.686928Z"
    },
    "trusted": true
   },
   "outputs": [],
   "source": [
    "import torch\n",
    "import torch.nn as nn\n",
    "import numpy as np\n",
    "from sklearn.preprocessing import StandardScaler\n",
    "from torch.utils.data import DataLoader, Dataset\n",
    "from joblib import load\n",
    "\n",
    "class LSTM_Autoencoder(nn.Module):\n",
    "    def __init__(self, input_size, hidden_size, seq_len, num_layers=2):\n",
    "        super(LSTM_Autoencoder, self).__init__()\n",
    "        self.encoder = nn.LSTM(input_size, hidden_size, batch_first=True, num_layers=num_layers)\n",
    "        self.decoder = nn.LSTM(hidden_size, hidden_size, batch_first=True, num_layers=num_layers)\n",
    "        self.output_layer = nn.Linear(hidden_size, input_size)\n",
    "        self.hidden_size = hidden_size\n",
    "        self.seq_len = seq_len\n",
    "\n",
    "    def forward(self, x):\n",
    "        h0 = torch.zeros(self.encoder.num_layers, x.size(0), self.hidden_size).to(x.device)\n",
    "        c0 = torch.zeros(self.encoder.num_layers, x.size(0), self.hidden_size).to(x.device)\n",
    "        \n",
    "        encoded, (hn, cn) = self.encoder(x, (h0, c0))\n",
    "        \n",
    "        decoded, _ = self.decoder(encoded, (hn, cn))\n",
    "        \n",
    "        decoded = self.output_layer(decoded)\n",
    "        \n",
    "        return decoded"
   ]
  },
  {
   "cell_type": "code",
   "execution_count": 23,
   "metadata": {
    "execution": {
     "iopub.execute_input": "2024-12-01T05:33:10.696847Z",
     "iopub.status.busy": "2024-12-01T05:33:10.696518Z",
     "iopub.status.idle": "2024-12-01T05:33:10.723484Z",
     "shell.execute_reply": "2024-12-01T05:33:10.722679Z",
     "shell.execute_reply.started": "2024-12-01T05:33:10.696821Z"
    },
    "trusted": true
   },
   "outputs": [],
   "source": [
    "model_path = \"/kaggle/working/lstm_autoencoder_hb.pth\"\n",
    "scaler_path = \"/kaggle/working/standardscaler_hb.joblib\"\n",
    "reconstruction_error_path = \"/kaggle/working/reconstruction_errors_hb.npy\"\n",
    "\n",
    "seq_len = 600  \n",
    "input_size = 25  \n",
    "hidden_size = 256  \n",
    "batch_size = 1024  \n",
    "num_layers = 2\n",
    "\n",
    "model = LSTM_Autoencoder(input_size=input_size, hidden_size=hidden_size, seq_len=seq_len, num_layers=num_layers)"
   ]
  },
  {
   "cell_type": "code",
   "execution_count": 24,
   "metadata": {
    "execution": {
     "iopub.execute_input": "2024-12-01T05:33:10.725409Z",
     "iopub.status.busy": "2024-12-01T05:33:10.724754Z",
     "iopub.status.idle": "2024-12-01T05:33:10.736330Z",
     "shell.execute_reply": "2024-12-01T05:33:10.735413Z",
     "shell.execute_reply.started": "2024-12-01T05:33:10.725365Z"
    },
    "trusted": true
   },
   "outputs": [
    {
     "name": "stdout",
     "output_type": "stream",
     "text": [
      "Using 2 GPUs\n"
     ]
    }
   ],
   "source": [
    "device = torch.device('cuda' if torch.cuda.is_available() else 'cpu')\n",
    "\n",
    "if torch.cuda.device_count() > 1:\n",
    "    print(f\"Using {torch.cuda.device_count()} GPUs\")\n",
    "    model = nn.DataParallel(model) \n",
    "\n",
    "model = model.to(device)"
   ]
  },
  {
   "cell_type": "code",
   "execution_count": 25,
   "metadata": {
    "execution": {
     "iopub.execute_input": "2024-12-01T05:33:10.737990Z",
     "iopub.status.busy": "2024-12-01T05:33:10.737709Z",
     "iopub.status.idle": "2024-12-01T05:33:10.752497Z",
     "shell.execute_reply": "2024-12-01T05:33:10.751563Z",
     "shell.execute_reply.started": "2024-12-01T05:33:10.737964Z"
    },
    "trusted": true
   },
   "outputs": [
    {
     "name": "stdout",
     "output_type": "stream",
     "text": [
      "Model loaded successfully!\n"
     ]
    },
    {
     "name": "stderr",
     "output_type": "stream",
     "text": [
      "/tmp/ipykernel_82/3335474394.py:1: FutureWarning: You are using `torch.load` with `weights_only=False` (the current default value), which uses the default pickle module implicitly. It is possible to construct malicious pickle data which will execute arbitrary code during unpickling (See https://github.com/pytorch/pytorch/blob/main/SECURITY.md#untrusted-models for more details). In a future release, the default value for `weights_only` will be flipped to `True`. This limits the functions that could be executed during unpickling. Arbitrary objects will no longer be allowed to be loaded via this mode unless they are explicitly allowlisted by the user via `torch.serialization.add_safe_globals`. We recommend you start setting `weights_only=True` for any use case where you don't have full control of the loaded file. Please open an issue on GitHub for any issues related to this experimental feature.\n",
      "  state_dict = torch.load(model_path, map_location=device)\n"
     ]
    },
    {
     "data": {
      "text/plain": [
       "DataParallel(\n",
       "  (module): LSTM_Autoencoder(\n",
       "    (encoder): LSTM(25, 256, num_layers=2, batch_first=True)\n",
       "    (decoder): LSTM(256, 256, num_layers=2, batch_first=True)\n",
       "    (output_layer): Linear(in_features=256, out_features=25, bias=True)\n",
       "  )\n",
       ")"
      ]
     },
     "execution_count": 25,
     "metadata": {},
     "output_type": "execute_result"
    }
   ],
   "source": [
    "state_dict = torch.load(model_path, map_location=device)\n",
    "\n",
    "if not any(key.startswith(\"module.\") for key in state_dict.keys()):\n",
    "    state_dict = {f\"module.{key}\": value for key, value in state_dict.items()}\n",
    "\n",
    "try:\n",
    "    model.load_state_dict(state_dict)\n",
    "    print(\"Model loaded successfully!\")\n",
    "except RuntimeError as e:\n",
    "    print(f\"Error loading model: {e}\")\n",
    "    print(\"Ensure the model architecture matches the saved state_dict structure.\")\n",
    "\n",
    "model.eval()"
   ]
  },
  {
   "cell_type": "code",
   "execution_count": 26,
   "metadata": {
    "execution": {
     "iopub.execute_input": "2024-12-01T05:33:10.753876Z",
     "iopub.status.busy": "2024-12-01T05:33:10.753623Z",
     "iopub.status.idle": "2024-12-01T05:33:10.907798Z",
     "shell.execute_reply": "2024-12-01T05:33:10.906908Z",
     "shell.execute_reply.started": "2024-12-01T05:33:10.753852Z"
    },
    "trusted": true
   },
   "outputs": [
    {
     "name": "stdout",
     "output_type": "stream",
     "text": [
      "Threshold is = 31.0486283302234\n",
      "Reconstruction Error: 686.6744995117188, Anomaly: True\n"
     ]
    },
    {
     "name": "stderr",
     "output_type": "stream",
     "text": [
      "/opt/conda/lib/python3.10/site-packages/torch/nn/parallel/parallel_apply.py:79: FutureWarning: `torch.cuda.amp.autocast(args...)` is deprecated. Please use `torch.amp.autocast('cuda', args...)` instead.\n",
      "  with torch.cuda.device(device), torch.cuda.stream(stream), autocast(enabled=autocast_enabled):\n"
     ]
    }
   ],
   "source": [
    "sc = load(scaler_path)\n",
    "reconstruction_errors = np.load(reconstruction_error_path)\n",
    "\n",
    "new_data = np.array([[1]*25])  \n",
    "new_data = sc.transform(new_data) \n",
    "\n",
    "new_data_tensor = torch.tensor(new_data, dtype=torch.float32).unsqueeze(0).to(device)  # Shape: (1, seq_len, input_size)\n",
    "\n",
    "with torch.no_grad():\n",
    "    new_data_reconstructed = model(new_data_tensor)\n",
    "    reconstruction_error = torch.mean((new_data_tensor - new_data_reconstructed) ** 2).item()\n",
    "\n",
    "threshold = np.percentile(reconstruction_errors, 95)  # Assuming you use the 95th percentile for anomaly threshold\n",
    "is_anomaly = reconstruction_error > threshold\n",
    "\n",
    "print(f\"Threshold is = {threshold}\")\n",
    "print(f\"Reconstruction Error: {reconstruction_error}, Anomaly: {is_anomaly}\")"
   ]
  },
  {
   "cell_type": "code",
   "execution_count": 27,
   "metadata": {
    "execution": {
     "iopub.execute_input": "2024-12-01T05:33:10.909286Z",
     "iopub.status.busy": "2024-12-01T05:33:10.908916Z",
     "iopub.status.idle": "2024-12-01T05:33:10.916299Z",
     "shell.execute_reply": "2024-12-01T05:33:10.915399Z",
     "shell.execute_reply.started": "2024-12-01T05:33:10.909244Z"
    },
    "trusted": true
   },
   "outputs": [
    {
     "name": "stdout",
     "output_type": "stream",
     "text": [
      "Min error = 0.17429295182228088 , Max Error  = 3545.452392578125\n"
     ]
    }
   ],
   "source": [
    "print(f\"Min error = {np.min(reconstruction_errors)} , Max Error  = {np.max(reconstruction_errors)}\")"
   ]
  },
  {
   "cell_type": "code",
   "execution_count": 28,
   "metadata": {
    "execution": {
     "iopub.execute_input": "2024-12-01T05:33:10.917783Z",
     "iopub.status.busy": "2024-12-01T05:33:10.917472Z",
     "iopub.status.idle": "2024-12-01T05:33:12.333007Z",
     "shell.execute_reply": "2024-12-01T05:33:12.331938Z",
     "shell.execute_reply.started": "2024-12-01T05:33:10.917755Z"
    },
    "trusted": true
   },
   "outputs": [
    {
     "name": "stdout",
     "output_type": "stream",
     "text": [
      "23\n"
     ]
    },
    {
     "data": {
      "image/png": "[encoded data removed]",
      "text/plain": [
       "<Figure size 1000x600 with 1 Axes>"
      ]
     },
     "metadata": {},
     "output_type": "display_data"
    }
   ],
   "source": [
    "import matplotlib.pyplot as plt\n",
    "import numpy as np\n",
    "\n",
    "\n",
    "bins = np.ceil(np.log2(len(reconstruction_errors)) + 1).astype(int)\n",
    "print(bins)\n",
    "\n",
    "plt.figure(figsize=(10, 6))\n",
    "plt.hist(reconstruction_errors, bins=1000, color='blue', edgecolor='black')\n",
    "plt.title('Histogram of Reconstruction Errors')\n",
    "plt.xlabel('Reconstruction Error')\n",
    "plt.ylabel('Frequency')\n",
    "plt.grid(True)\n",
    "plt.show()\n"
   ]
  },
  {
   "cell_type": "code",
   "execution_count": null,
   "metadata": {
    "trusted": true
   },
   "outputs": [],
   "source": []
  }
 ],
 "metadata": {
  "kaggle": {
   "accelerator": "nvidiaTeslaT4",
   "dataSources": [
    {
     "datasetId": 6063935,
     "sourceId": 9877061,
     "sourceType": "datasetVersion"
    },
    {
     "datasetId": 6164281,
     "sourceId": 10012532,
     "sourceType": "datasetVersion"
    }
   ],
   "dockerImageVersionId": 30787,
   "isGpuEnabled": true,
   "isInternetEnabled": true,
   "language": "python",
   "sourceType": "notebook"
  },
  "kernelspec": {
   "display_name": "Python 3",
   "language": "python",
   "name": "python3"
  },
  "language_info": {
   "codemirror_mode": {
    "name": "ipython",
    "version": 3
   },
   "file_extension": ".py",
   "mimetype": "text/x-python",
   "name": "python",
   "nbconvert_exporter": "python",
   "pygments_lexer": "ipython3",
   "version": "3.10.14"
  }
 },
 "nbformat": 4,
 "nbformat_minor": 4
}
